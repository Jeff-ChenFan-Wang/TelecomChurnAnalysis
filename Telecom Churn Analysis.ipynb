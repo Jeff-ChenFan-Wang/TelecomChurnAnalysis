{
 "cells": [
  {
   "cell_type": "code",
   "execution_count": 1,
   "metadata": {},
   "outputs": [
    {
     "data": {
      "text/plain": [
       "<module 'JeffUtils' from 'C:\\\\Users\\\\j3ff1\\\\Documents\\\\School Work\\\\MLProjects\\\\TelecomChurnAnalysis\\\\JeffUtils.py'>"
      ]
     },
     "execution_count": 1,
     "metadata": {},
     "output_type": "execute_result"
    }
   ],
   "source": [
    "import importlib\n",
    "import JeffUtils\n",
    "importlib.reload(JeffUtils)"
   ]
  },
  {
   "cell_type": "code",
   "execution_count": 2,
   "metadata": {},
   "outputs": [],
   "source": [
    "import pandas as pd\n",
    "import numpy as np\n",
    "import seaborn as sns\n",
    "import matplotlib.pyplot as plt\n",
    "import math\n",
    "import scipy\n",
    "import re\n",
    "from typing import Union, List"
   ]
  },
  {
   "cell_type": "code",
   "execution_count": 3,
   "metadata": {},
   "outputs": [],
   "source": [
    "pd.set_option('display.max_columns', None)"
   ]
  },
  {
   "cell_type": "markdown",
   "metadata": {},
   "source": [
    "we set a predetermined random seed so our experiment results can be easily replicated "
   ]
  },
  {
   "cell_type": "code",
   "execution_count": 4,
   "metadata": {},
   "outputs": [],
   "source": [
    "RANDOM_SEED = 1337"
   ]
  },
  {
   "cell_type": "markdown",
   "metadata": {},
   "source": [
    "# Loading Raw Data"
   ]
  },
  {
   "cell_type": "markdown",
   "metadata": {},
   "source": [
    "Data downloaded from: https://www.kaggle.com/datasets/abhinav89/telecom-customer?resource=download. The data has 100 columns and 100,000 data points"
   ]
  },
  {
   "cell_type": "code",
   "execution_count": 38,
   "metadata": {},
   "outputs": [
    {
     "data": {
      "text/plain": [
       "(100000, 100)"
      ]
     },
     "execution_count": 38,
     "metadata": {},
     "output_type": "execute_result"
    }
   ],
   "source": [
    "raw_data = pd.read_csv('telecomChurn.zip')\n",
    "raw_data.shape"
   ]
  },
  {
   "cell_type": "markdown",
   "metadata": {},
   "source": [
    "The description mentions that customer_id is the primary key, hence we set it so and clean up column names"
   ]
  },
  {
   "cell_type": "code",
   "execution_count": 39,
   "metadata": {},
   "outputs": [],
   "source": [
    "raw_data = raw_data.set_index('Customer_ID')\n",
    "raw_data.columns = map(str.lower,raw_data.columns)\n",
    "raw_data = raw_data[np.sort(raw_data.columns)]"
   ]
  },
  {
   "cell_type": "markdown",
   "metadata": {},
   "source": [
    "## Handling column descriptions"
   ]
  },
  {
   "cell_type": "markdown",
   "metadata": {},
   "source": [
    "Since there is literally a hundred columns in this dataset, we may want to group similar columns together and analyze them group by group for an easier time. We just want a quick look so we won't use any complicated state of the art NLP methods, and stick with the tried and true, quick and dirty method of tfidf+kmeans clustering."
   ]
  },
  {
   "cell_type": "code",
   "execution_count": 7,
   "metadata": {},
   "outputs": [],
   "source": [
    "from sklearn.feature_extraction.text import TfidfVectorizer\n",
    "from sklearn.cluster import KMeans\n",
    "import gensim\n",
    "import spacy"
   ]
  },
  {
   "cell_type": "markdown",
   "metadata": {},
   "source": [
    "### read-in column descriptions"
   ]
  },
  {
   "cell_type": "markdown",
   "metadata": {},
   "source": [
    "column descriptions are scraped straight from the kaggle website via beautifulsoup. It's been packaged in this repository for convenience's sake. "
   ]
  },
  {
   "cell_type": "code",
   "execution_count": 8,
   "metadata": {},
   "outputs": [],
   "source": [
    "col_desc = pd.read_json('columnDescriptions.json',orient='index')[0].rename('col_desc').to_frame()"
   ]
  },
  {
   "cell_type": "code",
   "execution_count": 9,
   "metadata": {},
   "outputs": [],
   "source": [
    "#set it to all lower case like we did column names in raw data\n",
    "col_desc.index = col_desc.index.str.lower()\n",
    "#pull out customer_id since it is just a primary key\n",
    "col_desc = col_desc.drop(['customer_id'])\n",
    "#pull out churn since it is our target variable\n",
    "col_desc = col_desc.drop(['churn'])"
   ]
  },
  {
   "cell_type": "code",
   "execution_count": 11,
   "metadata": {
    "scrolled": true
   },
   "outputs": [
    {
     "data": {
      "text/html": [
       "<div>\n",
       "<style scoped>\n",
       "    .dataframe tbody tr th:only-of-type {\n",
       "        vertical-align: middle;\n",
       "    }\n",
       "\n",
       "    .dataframe tbody tr th {\n",
       "        vertical-align: top;\n",
       "    }\n",
       "\n",
       "    .dataframe thead th {\n",
       "        text-align: right;\n",
       "    }\n",
       "</style>\n",
       "<table border=\"1\" class=\"dataframe\">\n",
       "  <thead>\n",
       "    <tr style=\"text-align: right;\">\n",
       "      <th></th>\n",
       "      <th>col_desc</th>\n",
       "    </tr>\n",
       "  </thead>\n",
       "  <tbody>\n",
       "    <tr>\n",
       "      <th>rev_mean</th>\n",
       "      <td>Mean monthly revenue (charge amount)</td>\n",
       "    </tr>\n",
       "    <tr>\n",
       "      <th>mou_mean</th>\n",
       "      <td>Mean number of monthly minutes of use</td>\n",
       "    </tr>\n",
       "    <tr>\n",
       "      <th>totmrc_mean</th>\n",
       "      <td>Mean total monthly recurring charge</td>\n",
       "    </tr>\n",
       "    <tr>\n",
       "      <th>da_mean</th>\n",
       "      <td>Mean number of directory assisted calls</td>\n",
       "    </tr>\n",
       "    <tr>\n",
       "      <th>ovrmou_mean</th>\n",
       "      <td>Mean overage minutes of use</td>\n",
       "    </tr>\n",
       "  </tbody>\n",
       "</table>\n",
       "</div>"
      ],
      "text/plain": [
       "                                            col_desc\n",
       "rev_mean        Mean monthly revenue (charge amount)\n",
       "mou_mean       Mean number of monthly minutes of use\n",
       "totmrc_mean      Mean total monthly recurring charge\n",
       "da_mean      Mean number of directory assisted calls\n",
       "ovrmou_mean              Mean overage minutes of use"
      ]
     },
     "execution_count": 11,
     "metadata": {},
     "output_type": "execute_result"
    }
   ],
   "source": [
    "col_desc.head(5)"
   ]
  },
  {
   "cell_type": "markdown",
   "metadata": {},
   "source": [
    "### Preprocess column descriptions"
   ]
  },
  {
   "cell_type": "code",
   "execution_count": 10,
   "metadata": {},
   "outputs": [],
   "source": [
    "#Remove stop words\n",
    "col_desc['clean_desc'] = (\n",
    "    col_desc['col_desc']\n",
    "    .apply(gensim.parsing.preprocessing.remove_stopwords)\n",
    ")\n",
    "\n",
    "#Remove characters that are not decimals,\n",
    "#not letters, and not white space\n",
    "col_desc['clean_desc'] = (\n",
    "    col_desc['clean_desc']\n",
    "    .str.replace('[^a-zA-Z0-9_ \\%]','')\n",
    ")\n",
    "#Replace double whitespace with single space\n",
    "#created from operation above\n",
    "col_desc['clean_desc'] = (\n",
    "    col_desc['clean_desc']\n",
    "    .str.replace('  ',' ')\n",
    ")"
   ]
  },
  {
   "cell_type": "code",
   "execution_count": 11,
   "metadata": {},
   "outputs": [],
   "source": [
    "nlp = spacy.load('en_core_web_sm')\n",
    "#Tokenize words in the cleaned description and lemmatize them\n",
    "col_desc['tokenized'] = col_desc['clean_desc'].apply(lambda x: [token.lemma_ for token in nlp(x)])\n",
    "#Join lemmatized tokens back into single string for ease of use\n",
    "col_desc['lemmatized'] = col_desc['tokenized'].apply(lambda x: ' '.join(x))"
   ]
  },
  {
   "cell_type": "code",
   "execution_count": 12,
   "metadata": {},
   "outputs": [],
   "source": [
    "#Transform our column descriptions into a tf-idf matrix so that we have numerical data to work with\n",
    "tfidf = TfidfVectorizer()\n",
    "tfidfMatrix = tfidf.fit_transform(col_desc['lemmatized'])"
   ]
  },
  {
   "cell_type": "markdown",
   "metadata": {},
   "source": [
    "### kmeans grouping"
   ]
  },
  {
   "cell_type": "markdown",
   "metadata": {},
   "source": [
    "We'll try to cluster similar columns together via K-Means since its quick and dirty."
   ]
  },
  {
   "cell_type": "code",
   "execution_count": 13,
   "metadata": {},
   "outputs": [],
   "source": [
    "#import utility functions\n",
    "from JeffUtils import graph_cluster_wc, graph_elbow"
   ]
  },
  {
   "cell_type": "markdown",
   "metadata": {},
   "source": [
    "We try values from 5-15 clusters for the number of clusters parameter of K-Means. Any less than 5 would likely not yield much separation between each cluster. Meanwhile, any more clusters than 15 is a little much to go through by hand, hence would make this entire process kind of redundant. "
   ]
  },
  {
   "cell_type": "code",
   "execution_count": 14,
   "metadata": {},
   "outputs": [],
   "source": [
    "kmeans = []\n",
    "for i in range(5,16):\n",
    "    km = KMeans(n_clusters=i,random_state=RANDOM_SEED)\n",
    "    km.fit_predict(tfidfMatrix.toarray())\n",
    "    kmeans.append((i,km.inertia_))"
   ]
  },
  {
   "cell_type": "markdown",
   "metadata": {},
   "source": [
    "Then determine the elbow of the loss. The elbow is calculated via the second derivative of the loss curve at every point, and the point with the highest second derivative is chosen as our parameter for the number of clusters. From the graph below, we see that the optimal number of clusters would be 6 clusters."
   ]
  },
  {
   "cell_type": "code",
   "execution_count": 15,
   "metadata": {
    "scrolled": true
   },
   "outputs": [
    {
     "data": {
      "image/png": "[encoded data removed]",
      "text/plain": [
       "<Figure size 432x288 with 1 Axes>"
      ]
     },
     "metadata": {
      "needs_background": "light"
     },
     "output_type": "display_data"
    }
   ],
   "source": [
    "loss = pd.DataFrame(kmeans)[1].rename('loss')\n",
    "#since the min number of clusters tested started at 5\n",
    "loss.index = loss.index+5\n",
    "#graph loss at every point and return optimal point\n",
    "elbow = graph_elbow(loss) "
   ]
  },
  {
   "cell_type": "markdown",
   "metadata": {},
   "source": [
    "we'll use the determined elbow as our n_cluster parameter to run kmeans"
   ]
  },
  {
   "cell_type": "code",
   "execution_count": 16,
   "metadata": {},
   "outputs": [],
   "source": [
    "kmeans = KMeans(n_clusters=elbow,random_state=RANDOM_SEED)\n",
    "col_desc['kmeans_class'] = kmeans.fit_predict(tfidfMatrix.toarray())"
   ]
  },
  {
   "cell_type": "code",
   "execution_count": 17,
   "metadata": {},
   "outputs": [],
   "source": [
    "from JeffUtils import graph_all_cluster_wc"
   ]
  },
  {
   "cell_type": "markdown",
   "metadata": {},
   "source": [
    "We now graph the 5 most common words appearing in each cluster, with the x axis representing the percentage of column descriptions in the cluster that contains the word in question. Some clusters have clearly defined themes, while others may not. The below summarizes what each column description cluster is likely primarily representing. \n",
    "\n",
    "- cluster 0 doesn't seem to have a unified theme, since the percentage of descriptions sharing each common word is very low. The cluster is therefore likely a collection of descriptions that do not fit well into other clusters. We should check this cluster out later on. \n",
    "- cluster 1 seems to deal with general call statistics\n",
    "- cluster 2 deals with statistics relate to minutes\n",
    "- cluster 3 deals with monthly statistics\n",
    "- cluster 4 deals with statstics of the customer household\n",
    "- cluster 5 deals with statistics across the customer's life "
   ]
  },
  {
   "cell_type": "code",
   "execution_count": 19,
   "metadata": {},
   "outputs": [
    {
     "data": {
      "image/png": "[encoded data removed]",
      "text/plain": [
       "<Figure size 720x432 with 6 Axes>"
      ]
     },
     "metadata": {
      "needs_background": "light"
     },
     "output_type": "display_data"
    }
   ],
   "source": [
    "graph_all_cluster_wc(col_desc,'kmeans_class',figsize=(10,6))"
   ]
  },
  {
   "cell_type": "markdown",
   "metadata": {},
   "source": [
    "We can also use T-SNE with default parameters to reduce our high dimensional dataset to two dimensions, so that we may graph our clusters for a quick sanity check. If the graph shows relatively clear demarcation of clusters, it means our \"most common word\" analysis from before actually represent each cluster well. If certain clusters do not have clear demarcations, we may need to double check that the clusters should actually be separated, and our K-Means didn't make a mistake. "
   ]
  },
  {
   "cell_type": "code",
   "execution_count": 20,
   "metadata": {},
   "outputs": [],
   "source": [
    "from sklearn.manifold import TSNE"
   ]
  },
  {
   "cell_type": "code",
   "execution_count": 21,
   "metadata": {},
   "outputs": [
    {
     "name": "stderr",
     "output_type": "stream",
     "text": [
      "C:\\Users\\j3ff1\\.conda\\envs\\xgboost\\lib\\site-packages\\sklearn\\manifold\\_t_sne.py:982: FutureWarning: The PCA initialization in TSNE will change to have the standard deviation of PC1 equal to 1e-4 in 1.2. This will ensure better convergence.\n",
      "  warnings.warn(\n"
     ]
    }
   ],
   "source": [
    "tsne = TSNE(n_components=2,\n",
    "            perplexity = 30,\n",
    "            learning_rate='auto',\n",
    "            init='pca',\n",
    "            random_state=RANDOM_SEED)\n",
    "tsneX = tsne.fit_transform(tfidfMatrix.toarray())"
   ]
  },
  {
   "cell_type": "markdown",
   "metadata": {},
   "source": [
    "It seems like clusters 1 and 2 have very similar descriptions as their datapoints are pretty intermingled, while the other clusters all have relatively more clearly defined clusters. We should double check that cluster 1 and 2 actually contain descriptions of different topics, and our K-Means didn't separate the descriptions within these two clusters due to some mathematical quirk"
   ]
  },
  {
   "cell_type": "code",
   "execution_count": 22,
   "metadata": {},
   "outputs": [
    {
     "data": {
      "text/plain": [
       "<matplotlib.legend.Legend at 0x216067bcc70>"
      ]
     },
     "execution_count": 22,
     "metadata": {},
     "output_type": "execute_result"
    },
    {
     "data": {
      "image/png": "[encoded data removed]",
      "text/plain": [
       "<Figure size 432x288 with 1 Axes>"
      ]
     },
     "metadata": {
      "needs_background": "light"
     },
     "output_type": "display_data"
    }
   ],
   "source": [
    "sns.scatterplot(\n",
    "    x=tsneX[:,0],y=tsneX[:,1],hue=col_desc['kmeans_class'],\n",
    "    palette=sns.color_palette(\"tab10\")[:col_desc['kmeans_class'].nunique()]\n",
    ")\n",
    "plt.legend(bbox_to_anchor=(1.05, 1), loc=2, borderaxespad=0.)"
   ]
  },
  {
   "cell_type": "code",
   "execution_count": 73,
   "metadata": {},
   "outputs": [],
   "source": [
    "#Helper functions for quality of life later on\n",
    "\n",
    "def get_clusters_list()->list:\n",
    "    \"\"\"returns a list where index corresponds\n",
    "    to cluster id from kmeans clustering\n",
    "    \"\"\"\n",
    "    clusters = []\n",
    "    for cluster_id in np.sort(col_desc['kmeans_class'].unique()):\n",
    "        clusters.append(\n",
    "            col_desc[col_desc['kmeans_class']==cluster_id].index\n",
    "        )\n",
    "    return clusters\n",
    "\n",
    "def get_col_desc(col_name:Union[str,List[str]])->Union[str,List[str]]:\n",
    "    \"\"\"get column description from column name\n",
    "    \"\"\"\n",
    "    return col_desc.loc[col_name]['col_desc']"
   ]
  },
  {
   "cell_type": "markdown",
   "metadata": {},
   "source": [
    "create a list of clustered column names for easier access and examination"
   ]
  },
  {
   "cell_type": "code",
   "execution_count": 19,
   "metadata": {},
   "outputs": [],
   "source": [
    "clusters = get_clusters_list()"
   ]
  },
  {
   "cell_type": "markdown",
   "metadata": {},
   "source": [
    "We randomly sample 5 descriptions from each cluster to avoid being overwhelmed. From these samples, we see:\n",
    "- Cluster 1 does indeed deal with general call statistics, while cluster 2 deals with statistics related to minutes.\n",
    "- The reason the two clusters are so similar is because they both deal with a variety of similar statistics, but one breaks down said statistics by calls while the other by minutes. Hence, the K-Means was right to cluster them this way."
   ]
  },
  {
   "cell_type": "code",
   "execution_count": 22,
   "metadata": {},
   "outputs": [
    {
     "data": {
      "text/plain": [
       "da_mean             Mean number of directory assisted calls\n",
       "blck_dat_mean    Mean number of blocked (failed) data calls\n",
       "comp_vce_mean          Mean number of completed voice calls\n",
       "recv_vce_mean           Mean number of received voice calls\n",
       "attempt_mean                Mean number of attempted calls \n",
       "Name: col_desc, dtype: object"
      ]
     },
     "execution_count": 22,
     "metadata": {},
     "output_type": "execute_result"
    }
   ],
   "source": [
    "get_col_desc(clusters[1]).sample(n=5,random_state=RANDOM_SEED)"
   ]
  },
  {
   "cell_type": "code",
   "execution_count": 23,
   "metadata": {},
   "outputs": [
    {
     "data": {
      "text/plain": [
       "mou_cvce_mean    Mean unrounded minutes of use of completed voi...\n",
       "cc_mou_mean      Mean unrounded minutes of use of customer care...\n",
       "ovrmou_mean                            Mean overage minutes of use\n",
       "mou_mean                     Mean number of monthly minutes of use\n",
       "inonemin_mean    Mean number of inbound calls less than one minute\n",
       "Name: col_desc, dtype: object"
      ]
     },
     "execution_count": 23,
     "metadata": {},
     "output_type": "execute_result"
    }
   ],
   "source": [
    "get_col_desc(clusters[2]).sample(n=5,random_state=RANDOM_SEED)"
   ]
  },
  {
   "cell_type": "markdown",
   "metadata": {},
   "source": [
    "Lastly, a quick look at cluster 0 does confirm our early suspicion that it is a collection of disparate column descriptions"
   ]
  },
  {
   "cell_type": "code",
   "execution_count": 27,
   "metadata": {},
   "outputs": [
    {
     "data": {
      "text/plain": [
       "datovr_mean                Mean revenue of data overage\n",
       "refurb_new                  Handset: refurbished or new\n",
       "rev_mean           Mean monthly revenue (charge amount)\n",
       "dualband                                       Dualband\n",
       "iwylis_vce_mean                                       N\n",
       "Name: col_desc, dtype: object"
      ]
     },
     "execution_count": 27,
     "metadata": {},
     "output_type": "execute_result"
    }
   ],
   "source": [
    "get_col_desc(clusters[0]).sample(n=5,random_state=RANDOM_SEED)"
   ]
  },
  {
   "cell_type": "markdown",
   "metadata": {},
   "source": [
    "# Data Examination"
   ]
  },
  {
   "cell_type": "code",
   "execution_count": 23,
   "metadata": {},
   "outputs": [],
   "source": [
    "#simple utility function to print plots\n",
    "from JeffUtils import jeff_histplot "
   ]
  },
  {
   "cell_type": "code",
   "execution_count": 40,
   "metadata": {},
   "outputs": [],
   "source": [
    "#creae a dataframe copy to store all our changes in\n",
    "clean_data = raw_data.copy()"
   ]
  },
  {
   "cell_type": "markdown",
   "metadata": {},
   "source": [
    "## Missing values"
   ]
  },
  {
   "cell_type": "markdown",
   "metadata": {},
   "source": [
    "First we take a look at what values may be missing from our data"
   ]
  },
  {
   "cell_type": "code",
   "execution_count": 20,
   "metadata": {},
   "outputs": [],
   "source": [
    "import networkx as nx"
   ]
  },
  {
   "cell_type": "code",
   "execution_count": 21,
   "metadata": {},
   "outputs": [],
   "source": [
    "percentage_na = (raw_data.isna().sum().sort_values(ascending=False)/raw_data.shape[0])"
   ]
  },
  {
   "cell_type": "markdown",
   "metadata": {},
   "source": [
    "It seems like the majority of the columns do not have missing values at all. Many that do have missing values, however, can have significant chunks missing. In fact, the column with the highest amount of missing values have nearly 50% of its rows missing. "
   ]
  },
  {
   "cell_type": "code",
   "execution_count": 24,
   "metadata": {},
   "outputs": [
    {
     "data": {
      "text/plain": [
       "(0.0, 30.0)"
      ]
     },
     "execution_count": 24,
     "metadata": {},
     "output_type": "execute_result"
    },
    {
     "data": {
      "image/png": "[encoded data removed]",
      "text/plain": [
       "<Figure size 432x288 with 1 Axes>"
      ]
     },
     "metadata": {
      "needs_background": "light"
     },
     "output_type": "display_data"
    }
   ],
   "source": [
    "ax = jeff_histplot(percentage_na,kde=True)\n",
    "ax.set_ylim(0,30)"
   ]
  },
  {
   "cell_type": "markdown",
   "metadata": {},
   "source": [
    "Lets take a look at columns that have a perfectly correlated missing values (i.e if one feature in the group has missing value, the rest would also for that row). This well let us know how to feed data into our model for prediction and setup our dashboard. "
   ]
  },
  {
   "cell_type": "code",
   "execution_count": 44,
   "metadata": {},
   "outputs": [],
   "source": [
    "#get the correlation of missing values between every column\n",
    "mia_corr = raw_data.isna().corr()"
   ]
  },
  {
   "cell_type": "code",
   "execution_count": 45,
   "metadata": {},
   "outputs": [],
   "source": [
    "perf_corr_cols = (\n",
    "    mia_corr\n",
    "    #Since (col1,col2) shows the same relationship as (col2,col1), \n",
    "    #and the diagonal will always be perfectly correlated,\n",
    "    #we just need the upper triangular of the missing matrix\n",
    "    .where(np.triu(np.ones(mia_corr.shape),1).astype(bool))\n",
    "    #get columns whose missingness is perfectly correlated \n",
    "    .where(mia_corr==1,np.nan)\n",
    "    #turn into list of tuples\n",
    "    .stack().index\n",
    ")"
   ]
  },
  {
   "cell_type": "code",
   "execution_count": 46,
   "metadata": {},
   "outputs": [],
   "source": [
    "#create an undirected graph from the data with each column as a node\n",
    "G = nx.from_pandas_edgelist(perf_corr_cols.to_frame().reset_index(drop=True),0,1)\n",
    "perf_miss_cols = []\n",
    "\n",
    "#add each component to a list for easier access\n",
    "for c in nx.connected_components(G):\n",
    "    perf_miss_cols.append(c)"
   ]
  },
  {
   "cell_type": "markdown",
   "metadata": {},
   "source": [
    "In the cell below we see the groups of columns who have perfectly correlated missingness. This means that for each row in our data, if that row has a column with a missing value, all other columns from the same group would also have a missing value in that row as well. Certain interesting observations can be made:\n",
    "\n",
    "- The miscellaneous info regarding the customer household is likely obtained through an optional survey or indrectly obtained through another avenue. This is because the missingness of features credit card, truck, rv ownership as well as number of children is household all have the exact same missingness when such disparate information shouldn't if they were directly obtained from the customer. These values are therefore likely MCAR (Missing completely at random)\n",
    "- There is very little (in fact, only one row) customers with missing data on whether their contract included a handset and the related information on said handset if the customer purchased one. \n",
    "- In general, these rows that have perfectly correlated missingness have relatviely low percentages compared to other features with missing values (as seen in the later cell), ranging from only 1-2 rows to roughly 3% out of 100,000 rows missing. Since the nubmer of missing values is so small, we may simply use mean or median imputation if needed later on and hope it doesn't affect our model too much."
   ]
  },
  {
   "cell_type": "code",
   "execution_count": 47,
   "metadata": {},
   "outputs": [
    {
     "data": {
      "text/plain": [
       "Text(0.5, 1.0, 'Percentage of Rows Missing in Each Column')"
      ]
     },
     "execution_count": 47,
     "metadata": {},
     "output_type": "execute_result"
    },
    {
     "data": {
      "image/png": "[encoded data removed]",
      "text/plain": [
       "<Figure size 576x432 with 1 Axes>"
      ]
     },
     "metadata": {
      "needs_background": "light"
     },
     "output_type": "display_data"
    }
   ],
   "source": [
    "plt.figure(figsize=(8,6))\n",
    "union_perf_mia = (\n",
    "    list(set().union(*perf_miss_cols))\n",
    ")\n",
    "\n",
    "perf_mia = (\n",
    "    raw_data.isna().sum()[\n",
    "        union_perf_mia\n",
    "    ]/raw_data.shape[0]\n",
    ").sort_values()\n",
    "\n",
    "ax = sns.barplot(x=perf_mia,y=perf_mia.index)\n",
    "ax.set_title('Percentage of Rows Missing in Each Column')"
   ]
  },
  {
   "cell_type": "code",
   "execution_count": 125,
   "metadata": {},
   "outputs": [
    {
     "data": {
      "text/plain": [
       "<AxesSubplot:xlabel='months', ylabel='Density'>"
      ]
     },
     "execution_count": 125,
     "metadata": {},
     "output_type": "execute_result"
    },
    {
     "data": {
      "image/png": "[encoded data removed]",
      "text/plain": [
       "<Figure size 432x288 with 1 Axes>"
      ]
     },
     "metadata": {
      "needs_background": "light"
     },
     "output_type": "display_data"
    }
   ],
   "source": [
    "sns.kdeplot(raw_data[raw_data.roam_mean.isna()].months)\n",
    "sns.kdeplot(raw_data.months)"
   ]
  },
  {
   "cell_type": "code",
   "execution_count": 130,
   "metadata": {},
   "outputs": [
    {
     "name": "stderr",
     "output_type": "stream",
     "text": [
      "C:\\Users\\j3ff1\\.conda\\envs\\xgboost\\lib\\site-packages\\seaborn\\_decorators.py:36: FutureWarning: Pass the following variable as a keyword arg: x. From version 0.12, the only valid positional argument will be `data`, and passing other arguments without an explicit keyword will result in an error or misinterpretation.\n",
      "  warnings.warn(\n"
     ]
    },
    {
     "data": {
      "text/plain": [
       "<AxesSubplot:xlabel='income', ylabel='count'>"
      ]
     },
     "execution_count": 130,
     "metadata": {},
     "output_type": "execute_result"
    },
    {
     "data": {
      "image/png": "[encoded data removed]",
      "text/plain": [
       "<Figure size 432x288 with 1 Axes>"
      ]
     },
     "metadata": {
      "needs_background": "light"
     },
     "output_type": "display_data"
    }
   ],
   "source": [
    "sns.countplot(raw_data[raw_data.roam_mean.isna()].income)"
   ]
  },
  {
   "cell_type": "code",
   "execution_count": 129,
   "metadata": {},
   "outputs": [
    {
     "name": "stderr",
     "output_type": "stream",
     "text": [
      "C:\\Users\\j3ff1\\.conda\\envs\\xgboost\\lib\\site-packages\\seaborn\\_decorators.py:36: FutureWarning: Pass the following variable as a keyword arg: x. From version 0.12, the only valid positional argument will be `data`, and passing other arguments without an explicit keyword will result in an error or misinterpretation.\n",
      "  warnings.warn(\n"
     ]
    },
    {
     "data": {
      "text/plain": [
       "<AxesSubplot:xlabel='income', ylabel='count'>"
      ]
     },
     "execution_count": 129,
     "metadata": {},
     "output_type": "execute_result"
    },
    {
     "data": {
      "image/png": "[encoded data removed]",
      "text/plain": [
       "<Figure size 432x288 with 1 Axes>"
      ]
     },
     "metadata": {
      "needs_background": "light"
     },
     "output_type": "display_data"
    }
   ],
   "source": [
    "sns.countplot(raw_data.income)"
   ]
  },
  {
   "cell_type": "markdown",
   "metadata": {},
   "source": [
    "The columns below are other columns that contian missing values but with their missingness not perfectly correlated with any other columns. Unlike the previous columns where some of them have perfectly correlated missingness with each other, these columns have significantly higher percentages of missingness with almost half of the rows in 'numbcars' missing. "
   ]
  },
  {
   "cell_type": "code",
   "execution_count": 53,
   "metadata": {},
   "outputs": [
    {
     "data": {
      "text/plain": [
       "Text(0.5, 1.0, 'Percentage of Rows Missing in Each Column')"
      ]
     },
     "execution_count": 53,
     "metadata": {},
     "output_type": "execute_result"
    },
    {
     "data": {
      "image/png": "[encoded data removed]",
      "text/plain": [
       "<Figure size 432x288 with 1 Axes>"
      ]
     },
     "metadata": {
      "needs_background": "light"
     },
     "output_type": "display_data"
    }
   ],
   "source": [
    "non_perf_mia = (\n",
    "    raw_data.isna().sum()[\n",
    "        list(set(raw_data.columns[raw_data.isna().sum()>0])-set(union_perf_mia))\n",
    "    ]/raw_data.shape[0]\n",
    ").sort_values(ascending=False)\n",
    "ax = sns.barplot(x=non_perf_mia,y=non_perf_mia.index)\n",
    "ax.set_title('Percentage of Rows Missing in Each Column')"
   ]
  },
  {
   "cell_type": "code",
   "execution_count": 109,
   "metadata": {},
   "outputs": [
    {
     "data": {
      "text/plain": [
       "1.0    22299\n",
       "2.0    23045\n",
       "3.0    13667\n",
       "4.0     8803\n",
       "5.0     4817\n",
       "6.0     4350\n",
       "Name: adults, dtype: int64"
      ]
     },
     "execution_count": 109,
     "metadata": {},
     "output_type": "execute_result"
    }
   ],
   "source": [
    "raw_data.adults.value_counts().sort_index()"
   ]
  },
  {
   "cell_type": "code",
   "execution_count": 103,
   "metadata": {},
   "outputs": [
    {
     "data": {
      "text/plain": [
       "<AxesSubplot:xlabel='income', ylabel='Density'>"
      ]
     },
     "execution_count": 103,
     "metadata": {},
     "output_type": "execute_result"
    },
    {
     "data": {
      "image/png": "[encoded data removed]",
      "text/plain": [
       "<Figure size 432x288 with 1 Axes>"
      ]
     },
     "metadata": {
      "needs_background": "light"
     },
     "output_type": "display_data"
    }
   ],
   "source": [
    "sns.kdeplot(raw_data.income)"
   ]
  },
  {
   "cell_type": "markdown",
   "metadata": {},
   "source": [
    "### Cleaning Missingness"
   ]
  },
  {
   "cell_type": "markdown",
   "metadata": {},
   "source": [
    "Some of the missing values in certain columns are MNAR (Missing not at Random) which can be fixed. For example from the cell below, we see that the 'numbcars' column has no 0 value, meaning all missing values are likely customers with no cars. We support this idea in the cell after by the fact that urban areas with public transport (and therefore less likelihood of car ownership) have higher missingness. We can therefore replace missing values with 0. "
   ]
  },
  {
   "cell_type": "code",
   "execution_count": 29,
   "metadata": {},
   "outputs": [
    {
     "data": {
      "text/plain": [
       "1.0    25586\n",
       "2.0    21358\n",
       "3.0     3690\n",
       "Name: numbcars, dtype: int64"
      ]
     },
     "execution_count": 29,
     "metadata": {},
     "output_type": "execute_result"
    }
   ],
   "source": [
    "raw_data.numbcars.value_counts()"
   ]
  },
  {
   "cell_type": "code",
   "execution_count": 91,
   "metadata": {},
   "outputs": [
    {
     "data": {
      "text/plain": [
       "<AxesSubplot:xlabel='numbcars', ylabel='area'>"
      ]
     },
     "execution_count": 91,
     "metadata": {},
     "output_type": "execute_result"
    },
    {
     "data": {
      "image/png": "[encoded data removed]",
      "text/plain": [
       "<Figure size 432x288 with 1 Axes>"
      ]
     },
     "metadata": {
      "needs_background": "light"
     },
     "output_type": "display_data"
    }
   ],
   "source": [
    "cars_mia = (\n",
    "    raw_data.groupby('area')['numbcars']\n",
    "    .apply(lambda x: x.isna().sum()/x.shape[0])\n",
    "    .sort_values(ascending=False)\n",
    ")\n",
    "sns.barplot(x=cars_mia,y=cars_mia.index)"
   ]
  },
  {
   "cell_type": "code",
   "execution_count": 41,
   "metadata": {},
   "outputs": [],
   "source": [
    "clean_data['numbcars'] = raw_data['numbcars'].fillna(0)"
   ]
  },
  {
   "cell_type": "code",
   "execution_count": 100,
   "metadata": {},
   "outputs": [
    {
     "data": {
      "text/plain": [
       "area                object\n",
       "asl_flag            object\n",
       "crclscod            object\n",
       "creditcd            object\n",
       "dualband            object\n",
       "dwllsize            object\n",
       "dwlltype            object\n",
       "ethnic              object\n",
       "hhstatin            object\n",
       "hnd_webcap          object\n",
       "infobase            object\n",
       "kid0_2              object\n",
       "kid11_15            object\n",
       "kid16_17            object\n",
       "kid3_5              object\n",
       "kid6_10             object\n",
       "marital             object\n",
       "new_cell            object\n",
       "ownrent             object\n",
       "prizm_social_one    object\n",
       "refurb_new          object\n",
       "dtype: object"
      ]
     },
     "execution_count": 100,
     "metadata": {},
     "output_type": "execute_result"
    }
   ],
   "source": [
    "raw_data.dtypes[raw_data.dtypes=='object']"
   ]
  },
  {
   "cell_type": "code",
   "execution_count": 56,
   "metadata": {},
   "outputs": [
    {
     "data": {
      "text/plain": [
       "Index(['rev_mean', 'totmrc_mean', 'ovrrev_mean', 'vceovr_mean', 'datovr_mean',\n",
       "       'iwylis_vce_mean', 'months', 'new_cell', 'crclscod', 'asl_flag',\n",
       "       'prizm_social_one', 'area', 'dualband', 'refurb_new', 'hnd_price',\n",
       "       'phones', 'models', 'hnd_webcap', 'truck', 'rv', 'ownrent', 'lor',\n",
       "       'dwlltype', 'marital', 'infobase', 'income', 'numbcars', 'dwllsize',\n",
       "       'forgntvl', 'ethnic', 'creditcd'],\n",
       "      dtype='object')"
      ]
     },
     "execution_count": 56,
     "metadata": {},
     "output_type": "execute_result"
    }
   ],
   "source": [
    "clusters[0]"
   ]
  },
  {
   "cell_type": "markdown",
   "metadata": {},
   "source": [
    "We elect not to use any other common imputation methods such as mean/median imputation or SMOTE since many of the missing data are qualitative data that have little relation to the other features, hence any data imputation method would likely be inaccurate and confuse our model. "
   ]
  },
  {
   "cell_type": "markdown",
   "metadata": {},
   "source": [
    "## Categorical Column Examination"
   ]
  },
  {
   "cell_type": "markdown",
   "metadata": {},
   "source": [
    "Since our data contains non-numeric data, lets explore them to see what we are working with first. From below we see that the majority of these columns are categorical values that need to be dummied, while certain columns such as dwelling size may need to be changed to ordinal. "
   ]
  },
  {
   "cell_type": "code",
   "execution_count": 104,
   "metadata": {},
   "outputs": [
    {
     "data": {
      "text/plain": [
       "area                                  Geogrpahic area \n",
       "crclscod                             Credit class code\n",
       "dualband                                      Dualband\n",
       "dwllsize                                Dwelling size \n",
       "ethnic                          Ethnicity roll-up code\n",
       "hhstatin            Premier household status indicator\n",
       "hnd_webcap                      Handset web capability\n",
       "marital                                Marital Status \n",
       "new_cell                           New cell phone user\n",
       "prizm_social_one              Social group letter only\n",
       "Name: col_desc, dtype: object"
      ]
     },
     "execution_count": 104,
     "metadata": {},
     "output_type": "execute_result"
    }
   ],
   "source": [
    "str_cols = raw_data.dtypes[raw_data.dtypes=='object'].index\n",
    "str_col_nuniq = raw_data[str_cols].nunique()\n",
    "#ignore binary columns\n",
    "get_col_desc(str_col_nuniq[str_col_nuniq>2].index)"
   ]
  },
  {
   "cell_type": "code",
   "execution_count": 132,
   "metadata": {},
   "outputs": [
    {
     "data": {
      "text/html": [
       "<div>\n",
       "<style scoped>\n",
       "    .dataframe tbody tr th:only-of-type {\n",
       "        vertical-align: middle;\n",
       "    }\n",
       "\n",
       "    .dataframe tbody tr th {\n",
       "        vertical-align: top;\n",
       "    }\n",
       "\n",
       "    .dataframe thead th {\n",
       "        text-align: right;\n",
       "    }\n",
       "</style>\n",
       "<table border=\"1\" class=\"dataframe\">\n",
       "  <thead>\n",
       "    <tr style=\"text-align: right;\">\n",
       "      <th></th>\n",
       "      <th>rev_mean</th>\n",
       "      <th>mou_mean</th>\n",
       "      <th>totmrc_mean</th>\n",
       "      <th>da_mean</th>\n",
       "      <th>ovrmou_mean</th>\n",
       "      <th>ovrrev_mean</th>\n",
       "      <th>vceovr_mean</th>\n",
       "      <th>datovr_mean</th>\n",
       "      <th>roam_mean</th>\n",
       "      <th>change_mou</th>\n",
       "      <th>change_rev</th>\n",
       "      <th>drop_vce_mean</th>\n",
       "      <th>drop_dat_mean</th>\n",
       "      <th>blck_vce_mean</th>\n",
       "      <th>blck_dat_mean</th>\n",
       "      <th>unan_vce_mean</th>\n",
       "      <th>unan_dat_mean</th>\n",
       "      <th>plcd_vce_mean</th>\n",
       "      <th>plcd_dat_mean</th>\n",
       "      <th>recv_vce_mean</th>\n",
       "      <th>recv_sms_mean</th>\n",
       "      <th>comp_vce_mean</th>\n",
       "      <th>comp_dat_mean</th>\n",
       "      <th>custcare_mean</th>\n",
       "      <th>ccrndmou_mean</th>\n",
       "      <th>cc_mou_mean</th>\n",
       "      <th>inonemin_mean</th>\n",
       "      <th>threeway_mean</th>\n",
       "      <th>mou_cvce_mean</th>\n",
       "      <th>mou_cdat_mean</th>\n",
       "      <th>mou_rvce_mean</th>\n",
       "      <th>owylis_vce_mean</th>\n",
       "      <th>mouowylisv_mean</th>\n",
       "      <th>iwylis_vce_mean</th>\n",
       "      <th>mouiwylisv_mean</th>\n",
       "      <th>peak_vce_mean</th>\n",
       "      <th>peak_dat_mean</th>\n",
       "      <th>mou_peav_mean</th>\n",
       "      <th>mou_pead_mean</th>\n",
       "      <th>opk_vce_mean</th>\n",
       "      <th>opk_dat_mean</th>\n",
       "      <th>mou_opkv_mean</th>\n",
       "      <th>mou_opkd_mean</th>\n",
       "      <th>drop_blk_mean</th>\n",
       "      <th>attempt_mean</th>\n",
       "      <th>complete_mean</th>\n",
       "      <th>callfwdv_mean</th>\n",
       "      <th>callwait_mean</th>\n",
       "      <th>months</th>\n",
       "      <th>uniqsubs</th>\n",
       "      <th>actvsubs</th>\n",
       "      <th>new_cell</th>\n",
       "      <th>crclscod</th>\n",
       "      <th>asl_flag</th>\n",
       "      <th>totcalls</th>\n",
       "      <th>totmou</th>\n",
       "      <th>totrev</th>\n",
       "      <th>adjrev</th>\n",
       "      <th>adjmou</th>\n",
       "      <th>adjqty</th>\n",
       "      <th>avgrev</th>\n",
       "      <th>avgmou</th>\n",
       "      <th>avgqty</th>\n",
       "      <th>avg3mou</th>\n",
       "      <th>avg3qty</th>\n",
       "      <th>avg3rev</th>\n",
       "      <th>avg6mou</th>\n",
       "      <th>avg6qty</th>\n",
       "      <th>avg6rev</th>\n",
       "      <th>prizm_social_one</th>\n",
       "      <th>area</th>\n",
       "      <th>dualband</th>\n",
       "      <th>refurb_new</th>\n",
       "      <th>hnd_price</th>\n",
       "      <th>phones</th>\n",
       "      <th>models</th>\n",
       "      <th>hnd_webcap</th>\n",
       "      <th>truck</th>\n",
       "      <th>rv</th>\n",
       "      <th>ownrent</th>\n",
       "      <th>lor</th>\n",
       "      <th>dwlltype</th>\n",
       "      <th>marital</th>\n",
       "      <th>adults</th>\n",
       "      <th>infobase</th>\n",
       "      <th>income</th>\n",
       "      <th>numbcars</th>\n",
       "      <th>hhstatin</th>\n",
       "      <th>dwllsize</th>\n",
       "      <th>forgntvl</th>\n",
       "      <th>ethnic</th>\n",
       "      <th>kid0_2</th>\n",
       "      <th>kid3_5</th>\n",
       "      <th>kid6_10</th>\n",
       "      <th>kid11_15</th>\n",
       "      <th>kid16_17</th>\n",
       "      <th>creditcd</th>\n",
       "      <th>eqpdays</th>\n",
       "    </tr>\n",
       "  </thead>\n",
       "  <tbody>\n",
       "    <tr>\n",
       "      <th>col_desc</th>\n",
       "      <td>Mean monthly revenue (charge amount)</td>\n",
       "      <td>Mean number of monthly minutes of use</td>\n",
       "      <td>Mean total monthly recurring charge</td>\n",
       "      <td>Mean number of directory assisted calls</td>\n",
       "      <td>Mean overage minutes of use</td>\n",
       "      <td>Mean overage revenue</td>\n",
       "      <td>Mean revenue of voice overage</td>\n",
       "      <td>Mean revenue of data overage</td>\n",
       "      <td>Mean number of roaming calls</td>\n",
       "      <td>Percentage change in monthly minutes of use vs...</td>\n",
       "      <td>Percentage change in monthly revenue vs previ...</td>\n",
       "      <td>Mean number of dropped (failed) voice calls</td>\n",
       "      <td>Mean number of dropped (failed) data calls</td>\n",
       "      <td>Mean number of blocked (failed) voice calls</td>\n",
       "      <td>Mean number of blocked (failed) data calls</td>\n",
       "      <td>Mean number of unanswered voice calls</td>\n",
       "      <td>Mean number of unanswered data calls</td>\n",
       "      <td>Mean number of attempted voice calls placed</td>\n",
       "      <td>Mean number of attempted data calls placed</td>\n",
       "      <td>Mean number of received voice calls</td>\n",
       "      <td>Mean number of received sms</td>\n",
       "      <td>Mean number of completed voice calls</td>\n",
       "      <td>Mean number of completed data calls</td>\n",
       "      <td>Mean number of customer care calls</td>\n",
       "      <td>Mean rounded minutes of use of customer care c...</td>\n",
       "      <td>Mean unrounded minutes of use of customer care...</td>\n",
       "      <td>Mean number of inbound calls less than one minute</td>\n",
       "      <td>Mean number of three way calls</td>\n",
       "      <td>Mean unrounded minutes of use of completed voi...</td>\n",
       "      <td>Mean unrounded minutes of use of completed dat...</td>\n",
       "      <td>Mean unrounded minutes of use of received voic...</td>\n",
       "      <td>Mean number of outbound wireless to wireless v...</td>\n",
       "      <td>Mean unrounded minutes of use of outbound wire...</td>\n",
       "      <td>N</td>\n",
       "      <td>Mean unrounded minutes of use of inbound wirel...</td>\n",
       "      <td>Mean number of inbound and outbound peak voice...</td>\n",
       "      <td>Mean number of peak data calls</td>\n",
       "      <td>Mean unrounded minutes of use of peak voice calls</td>\n",
       "      <td>Mean unrounded minutes of use of peak data calls</td>\n",
       "      <td>Mean number of off-peak voice calls</td>\n",
       "      <td>Mean number of off-peak data calls</td>\n",
       "      <td>Mean unrounded minutes of use of off-peak voic...</td>\n",
       "      <td>Mean unrounded minutes of use of off-peak data...</td>\n",
       "      <td>Mean number of dropped or blocked calls</td>\n",
       "      <td>Mean number of attempted calls</td>\n",
       "      <td>Mean number of completed calls</td>\n",
       "      <td>Mean number of call forwarding calls</td>\n",
       "      <td>Mean number of call waiting calls</td>\n",
       "      <td>Total number of months in service</td>\n",
       "      <td>Number of unique subscribers in the household</td>\n",
       "      <td>Number of active subscribers in household</td>\n",
       "      <td>New cell phone user</td>\n",
       "      <td>Credit class code</td>\n",
       "      <td>Account spending limit</td>\n",
       "      <td>Total number of calls over the life of the cus...</td>\n",
       "      <td>Total minutes of use over the life of the cust...</td>\n",
       "      <td>Total revenue</td>\n",
       "      <td>Billing adjusted total revenue over the life o...</td>\n",
       "      <td>Billing adjusted total minutes of use over the...</td>\n",
       "      <td>Billing adjusted total number of calls over th...</td>\n",
       "      <td>Average monthly revenue over the life of the c...</td>\n",
       "      <td>Average monthly minutes of use over the life o...</td>\n",
       "      <td>Average monthly number of calls over the life ...</td>\n",
       "      <td>Average monthly minutes of use over the previo...</td>\n",
       "      <td>Average monthly number of calls over the previ...</td>\n",
       "      <td>Average monthly revenue over the previous thre...</td>\n",
       "      <td>Average monthly minutes of use over the previo...</td>\n",
       "      <td>Average monthly number of calls over the previ...</td>\n",
       "      <td>Average monthly revenue over the previous six ...</td>\n",
       "      <td>Social group letter only</td>\n",
       "      <td>Geogrpahic area</td>\n",
       "      <td>Dualband</td>\n",
       "      <td>Handset: refurbished or new</td>\n",
       "      <td>Current handset price</td>\n",
       "      <td>Number of handsets issued</td>\n",
       "      <td>Number of models issued</td>\n",
       "      <td>Handset web capability</td>\n",
       "      <td>Truck indicator</td>\n",
       "      <td>RV indicator</td>\n",
       "      <td>Home owner/renter status</td>\n",
       "      <td>Length of residence</td>\n",
       "      <td>Dwelling Unit type</td>\n",
       "      <td>Marital Status</td>\n",
       "      <td>Number of adults in household</td>\n",
       "      <td>InfoBase match</td>\n",
       "      <td>Estimated income</td>\n",
       "      <td>Known number of vehicles</td>\n",
       "      <td>Premier household status indicator</td>\n",
       "      <td>Dwelling size</td>\n",
       "      <td>Foreign travel dummy variable</td>\n",
       "      <td>Ethnicity roll-up code</td>\n",
       "      <td>Child 0 - 2 years of age in household</td>\n",
       "      <td>Child 3 - 5 years of age in household</td>\n",
       "      <td>Child 6 - 10 years of age in household</td>\n",
       "      <td>Child 11 - 15 years of age in household</td>\n",
       "      <td>Child 16 - 17 years of age in household</td>\n",
       "      <td>Credit card indicator</td>\n",
       "      <td>Number of days (age) of current equipment</td>\n",
       "    </tr>\n",
       "  </tbody>\n",
       "</table>\n",
       "</div>"
      ],
      "text/plain": [
       "                                      rev_mean  \\\n",
       "col_desc  Mean monthly revenue (charge amount)   \n",
       "\n",
       "                                       mou_mean  \\\n",
       "col_desc  Mean number of monthly minutes of use   \n",
       "\n",
       "                                  totmrc_mean  \\\n",
       "col_desc  Mean total monthly recurring charge   \n",
       "\n",
       "                                          da_mean  \\\n",
       "col_desc  Mean number of directory assisted calls   \n",
       "\n",
       "                          ovrmou_mean           ovrrev_mean  \\\n",
       "col_desc  Mean overage minutes of use  Mean overage revenue   \n",
       "\n",
       "                             vceovr_mean                    datovr_mean  \\\n",
       "col_desc  Mean revenue of voice overage    Mean revenue of data overage   \n",
       "\n",
       "                             roam_mean  \\\n",
       "col_desc  Mean number of roaming calls   \n",
       "\n",
       "                                                 change_mou  \\\n",
       "col_desc  Percentage change in monthly minutes of use vs...   \n",
       "\n",
       "                                                 change_rev  \\\n",
       "col_desc   Percentage change in monthly revenue vs previ...   \n",
       "\n",
       "                                         drop_vce_mean  \\\n",
       "col_desc   Mean number of dropped (failed) voice calls   \n",
       "\n",
       "                                       drop_dat_mean  \\\n",
       "col_desc  Mean number of dropped (failed) data calls   \n",
       "\n",
       "                                        blck_vce_mean  \\\n",
       "col_desc  Mean number of blocked (failed) voice calls   \n",
       "\n",
       "                                       blck_dat_mean  \\\n",
       "col_desc  Mean number of blocked (failed) data calls   \n",
       "\n",
       "                                  unan_vce_mean  \\\n",
       "col_desc  Mean number of unanswered voice calls   \n",
       "\n",
       "                                 unan_dat_mean  \\\n",
       "col_desc  Mean number of unanswered data calls   \n",
       "\n",
       "                                        plcd_vce_mean  \\\n",
       "col_desc  Mean number of attempted voice calls placed   \n",
       "\n",
       "                                       plcd_dat_mean  \\\n",
       "col_desc  Mean number of attempted data calls placed   \n",
       "\n",
       "                                recv_vce_mean                recv_sms_mean  \\\n",
       "col_desc  Mean number of received voice calls  Mean number of received sms   \n",
       "\n",
       "                                 comp_vce_mean  \\\n",
       "col_desc  Mean number of completed voice calls   \n",
       "\n",
       "                                 comp_dat_mean  \\\n",
       "col_desc  Mean number of completed data calls    \n",
       "\n",
       "                               custcare_mean  \\\n",
       "col_desc  Mean number of customer care calls   \n",
       "\n",
       "                                              ccrndmou_mean  \\\n",
       "col_desc  Mean rounded minutes of use of customer care c...   \n",
       "\n",
       "                                                cc_mou_mean  \\\n",
       "col_desc  Mean unrounded minutes of use of customer care...   \n",
       "\n",
       "                                              inonemin_mean  \\\n",
       "col_desc  Mean number of inbound calls less than one minute   \n",
       "\n",
       "                            threeway_mean  \\\n",
       "col_desc  Mean number of three way calls    \n",
       "\n",
       "                                              mou_cvce_mean  \\\n",
       "col_desc  Mean unrounded minutes of use of completed voi...   \n",
       "\n",
       "                                              mou_cdat_mean  \\\n",
       "col_desc  Mean unrounded minutes of use of completed dat...   \n",
       "\n",
       "                                              mou_rvce_mean  \\\n",
       "col_desc  Mean unrounded minutes of use of received voic...   \n",
       "\n",
       "                                            owylis_vce_mean  \\\n",
       "col_desc  Mean number of outbound wireless to wireless v...   \n",
       "\n",
       "                                            mouowylisv_mean iwylis_vce_mean  \\\n",
       "col_desc  Mean unrounded minutes of use of outbound wire...               N   \n",
       "\n",
       "                                            mouiwylisv_mean  \\\n",
       "col_desc  Mean unrounded minutes of use of inbound wirel...   \n",
       "\n",
       "                                              peak_vce_mean  \\\n",
       "col_desc  Mean number of inbound and outbound peak voice...   \n",
       "\n",
       "                           peak_dat_mean  \\\n",
       "col_desc  Mean number of peak data calls   \n",
       "\n",
       "                                              mou_peav_mean  \\\n",
       "col_desc  Mean unrounded minutes of use of peak voice calls   \n",
       "\n",
       "                                             mou_pead_mean  \\\n",
       "col_desc  Mean unrounded minutes of use of peak data calls   \n",
       "\n",
       "                                 opk_vce_mean  \\\n",
       "col_desc  Mean number of off-peak voice calls   \n",
       "\n",
       "                                opk_dat_mean  \\\n",
       "col_desc  Mean number of off-peak data calls   \n",
       "\n",
       "                                              mou_opkv_mean  \\\n",
       "col_desc  Mean unrounded minutes of use of off-peak voic...   \n",
       "\n",
       "                                              mou_opkd_mean  \\\n",
       "col_desc  Mean unrounded minutes of use of off-peak data...   \n",
       "\n",
       "                                    drop_blk_mean  \\\n",
       "col_desc  Mean number of dropped or blocked calls   \n",
       "\n",
       "                             attempt_mean                   complete_mean  \\\n",
       "col_desc  Mean number of attempted calls   Mean number of completed calls   \n",
       "\n",
       "                                   callfwdv_mean  \\\n",
       "col_desc   Mean number of call forwarding calls    \n",
       "\n",
       "                              callwait_mean  \\\n",
       "col_desc  Mean number of call waiting calls   \n",
       "\n",
       "                                     months  \\\n",
       "col_desc  Total number of months in service   \n",
       "\n",
       "                                               uniqsubs  \\\n",
       "col_desc  Number of unique subscribers in the household   \n",
       "\n",
       "                                            actvsubs             new_cell  \\\n",
       "col_desc   Number of active subscribers in household  New cell phone user   \n",
       "\n",
       "                    crclscod                 asl_flag  \\\n",
       "col_desc   Credit class code   Account spending limit   \n",
       "\n",
       "                                                   totcalls  \\\n",
       "col_desc  Total number of calls over the life of the cus...   \n",
       "\n",
       "                                                     totmou         totrev  \\\n",
       "col_desc  Total minutes of use over the life of the cust...  Total revenue   \n",
       "\n",
       "                                                     adjrev  \\\n",
       "col_desc  Billing adjusted total revenue over the life o...   \n",
       "\n",
       "                                                     adjmou  \\\n",
       "col_desc  Billing adjusted total minutes of use over the...   \n",
       "\n",
       "                                                     adjqty  \\\n",
       "col_desc  Billing adjusted total number of calls over th...   \n",
       "\n",
       "                                                     avgrev  \\\n",
       "col_desc  Average monthly revenue over the life of the c...   \n",
       "\n",
       "                                                     avgmou  \\\n",
       "col_desc  Average monthly minutes of use over the life o...   \n",
       "\n",
       "                                                     avgqty  \\\n",
       "col_desc  Average monthly number of calls over the life ...   \n",
       "\n",
       "                                                    avg3mou  \\\n",
       "col_desc  Average monthly minutes of use over the previo...   \n",
       "\n",
       "                                                    avg3qty  \\\n",
       "col_desc  Average monthly number of calls over the previ...   \n",
       "\n",
       "                                                    avg3rev  \\\n",
       "col_desc  Average monthly revenue over the previous thre...   \n",
       "\n",
       "                                                    avg6mou  \\\n",
       "col_desc  Average monthly minutes of use over the previo...   \n",
       "\n",
       "                                                    avg6qty  \\\n",
       "col_desc  Average monthly number of calls over the previ...   \n",
       "\n",
       "                                                    avg6rev  \\\n",
       "col_desc  Average monthly revenue over the previous six ...   \n",
       "\n",
       "                   prizm_social_one              area  dualband  \\\n",
       "col_desc   Social group letter only  Geogrpahic area   Dualband   \n",
       "\n",
       "                           refurb_new              hnd_price  \\\n",
       "col_desc  Handset: refurbished or new  Current handset price   \n",
       "\n",
       "                              phones                   models  \\\n",
       "col_desc   Number of handsets issued  Number of models issued   \n",
       "\n",
       "                      hnd_webcap             truck            rv  \\\n",
       "col_desc  Handset web capability  Truck indicator   RV indicator   \n",
       "\n",
       "                           ownrent                  lor             dwlltype  \\\n",
       "col_desc  Home owner/renter status  Length of residence   Dwelling Unit type   \n",
       "\n",
       "                  marital                         adults        infobase  \\\n",
       "col_desc  Marital Status   Number of adults in household  InfoBase match   \n",
       "\n",
       "                    income                  numbcars  \\\n",
       "col_desc  Estimated income  Known number of vehicles   \n",
       "\n",
       "                                    hhstatin        dwllsize  \\\n",
       "col_desc  Premier household status indicator  Dwelling size    \n",
       "\n",
       "                               forgntvl                  ethnic  \\\n",
       "col_desc  Foreign travel dummy variable  Ethnicity roll-up code   \n",
       "\n",
       "                                         kid0_2  \\\n",
       "col_desc  Child 0 - 2 years of age in household   \n",
       "\n",
       "                                          kid3_5  \\\n",
       "col_desc  Child 3 - 5 years of age in household    \n",
       "\n",
       "                                         kid6_10  \\\n",
       "col_desc  Child 6 - 10 years of age in household   \n",
       "\n",
       "                                         kid11_15  \\\n",
       "col_desc  Child 11 - 15 years of age in household   \n",
       "\n",
       "                                         kid16_17               creditcd  \\\n",
       "col_desc  Child 16 - 17 years of age in household  Credit card indicator   \n",
       "\n",
       "                                            eqpdays  \n",
       "col_desc  Number of days (age) of current equipment  "
      ]
     },
     "execution_count": 132,
     "metadata": {},
     "output_type": "execute_result"
    }
   ],
   "source": [
    "col_desc[['col_desc']].T"
   ]
  },
  {
   "cell_type": "code",
   "execution_count": 129,
   "metadata": {},
   "outputs": [
    {
     "data": {
      "text/plain": [
       "6.0    18802\n",
       "7.0    11597\n",
       "9.0    10833\n",
       "5.0     8277\n",
       "4.0     7790\n",
       "3.0     5830\n",
       "8.0     5142\n",
       "1.0     4033\n",
       "2.0     2260\n",
       "Name: income, dtype: int64"
      ]
     },
     "execution_count": 129,
     "metadata": {},
     "output_type": "execute_result"
    }
   ],
   "source": [
    "raw_data.income.value_counts()"
   ]
  },
  {
   "cell_type": "code",
   "execution_count": 134,
   "metadata": {},
   "outputs": [
    {
     "data": {
      "text/plain": [
       "crclscod\n",
       "EF    3.0\n",
       "C5    4.0\n",
       "Z2    4.0\n",
       "Z5    4.5\n",
       "DA    5.0\n",
       "D5    5.0\n",
       "D4    5.0\n",
       "EA    5.0\n",
       "EC    5.0\n",
       "CC    5.0\n",
       "E2    5.0\n",
       "E4    5.0\n",
       "EM    5.0\n",
       "W     5.0\n",
       "ZA    5.0\n",
       "Z1    5.0\n",
       "Z4    5.0\n",
       "CA    5.0\n",
       "K     6.0\n",
       "A     6.0\n",
       "O     6.0\n",
       "JF    6.0\n",
       "U     6.0\n",
       "U1    6.0\n",
       "V1    6.0\n",
       "Y     6.0\n",
       "Z     6.0\n",
       "M     6.0\n",
       "I     6.0\n",
       "G     6.0\n",
       "ZY    6.0\n",
       "A2    6.0\n",
       "GA    6.0\n",
       "A3    6.0\n",
       "E     6.0\n",
       "D2    6.0\n",
       "AA    6.0\n",
       "D     6.0\n",
       "CY    6.0\n",
       "C2    6.0\n",
       "C     6.0\n",
       "BA    6.0\n",
       "B2    6.0\n",
       "B     6.0\n",
       "P1    6.5\n",
       "H     6.5\n",
       "J     7.0\n",
       "GY    7.0\n",
       "V     7.0\n",
       "TP    7.5\n",
       "L     9.0\n",
       "IF    NaN\n",
       "S     NaN\n",
       "ZF    NaN\n",
       "Name: income, dtype: float64"
      ]
     },
     "execution_count": 134,
     "metadata": {},
     "output_type": "execute_result"
    }
   ],
   "source": [
    "raw_data.groupby('crclscod')['income'].median().sort_values()"
   ]
  },
  {
   "cell_type": "markdown",
   "metadata": {},
   "source": [
    "## Correlations"
   ]
  },
  {
   "cell_type": "markdown",
   "metadata": {},
   "source": [
    "Lets take a look at absolute correlation values to see if any particular column already has a high predictive value on churn by itself"
   ]
  },
  {
   "cell_type": "code",
   "execution_count": 482,
   "metadata": {},
   "outputs": [],
   "source": [
    "corrs = raw_data.corr()\n",
    "churn_corrs = corrs['churn']"
   ]
  },
  {
   "cell_type": "markdown",
   "metadata": {},
   "source": [
    "Below we see that most of the columns having low correlation values, hence it doesn't seem like any particular column has high predictive power by itself"
   ]
  },
  {
   "cell_type": "code",
   "execution_count": 483,
   "metadata": {},
   "outputs": [
    {
     "data": {
      "text/plain": [
       "<AxesSubplot:xlabel='churn', ylabel='Count'>"
      ]
     },
     "execution_count": 483,
     "metadata": {},
     "output_type": "execute_result"
    },
    {
     "data": {
      "image/png": "[encoded data removed]",
      "text/plain": [
       "<Figure size 432x288 with 1 Axes>"
      ]
     },
     "metadata": {
      "needs_background": "light"
     },
     "output_type": "display_data"
    }
   ],
   "source": [
    "#remove first element since it'll be churn's correlation with itself \n",
    "sorted_abs_corr = abs(churn_corrs).sort_values(ascending=False)[1:]\n",
    "jeff_histplot(sorted_abs_corr) "
   ]
  },
  {
   "cell_type": "markdown",
   "metadata": {},
   "source": [
    "It looks like the eqpdays and hnd_price columns have the highest correlation with churn. We'll take a look at these individually"
   ]
  },
  {
   "cell_type": "code",
   "execution_count": 471,
   "metadata": {},
   "outputs": [
    {
     "data": {
      "text/plain": [
       "eqpdays          0.112691\n",
       "hnd_price        0.103184\n",
       "totmrc_mean      0.068558\n",
       "mou_mean         0.057027\n",
       "mou_cvce_mean    0.052042\n",
       "Name: churn, dtype: float64"
      ]
     },
     "execution_count": 471,
     "metadata": {},
     "output_type": "execute_result"
    }
   ],
   "source": [
    "sorted_abs_corr.head(5)"
   ]
  },
  {
   "cell_type": "markdown",
   "metadata": {},
   "source": [
    "Seems like the longer you've been using the same equiment, the more likely you are going to churn"
   ]
  },
  {
   "cell_type": "code",
   "execution_count": 476,
   "metadata": {},
   "outputs": [
    {
     "data": {
      "text/plain": [
       "('Number of days (age) of current equipment', 0.11269140152670142)"
      ]
     },
     "execution_count": 476,
     "metadata": {},
     "output_type": "execute_result"
    }
   ],
   "source": [
    "get_col_desc('eqpdays'),churn_corrs['eqpdays']"
   ]
  },
  {
   "cell_type": "markdown",
   "metadata": {},
   "source": [
    "Seems like the more expensive the phone your plan is tied to, the less likely you are to churn"
   ]
  },
  {
   "cell_type": "code",
   "execution_count": 478,
   "metadata": {},
   "outputs": [
    {
     "data": {
      "text/plain": [
       "('Current handset price', -0.10318395803125995)"
      ]
     },
     "execution_count": 478,
     "metadata": {},
     "output_type": "execute_result"
    }
   ],
   "source": [
    "get_col_desc('hnd_price'),churn_corrs['hnd_price']"
   ]
  },
  {
   "cell_type": "code",
   "execution_count": null,
   "metadata": {},
   "outputs": [],
   "source": []
  },
  {
   "cell_type": "markdown",
   "metadata": {},
   "source": [
    "# MONTH"
   ]
  },
  {
   "cell_type": "code",
   "execution_count": 112,
   "metadata": {},
   "outputs": [
    {
     "data": {
      "text/plain": [
       "<AxesSubplot:xlabel='months', ylabel='Density'>"
      ]
     },
     "execution_count": 112,
     "metadata": {},
     "output_type": "execute_result"
    },
    {
     "data": {
      "image/png": "[encoded data removed]",
      "text/plain": [
       "<Figure size 432x288 with 1 Axes>"
      ]
     },
     "metadata": {
      "needs_background": "light"
     },
     "output_type": "display_data"
    }
   ],
   "source": [
    "sns.kdeplot(raw_data.months)"
   ]
  },
  {
   "cell_type": "code",
   "execution_count": 113,
   "metadata": {},
   "outputs": [
    {
     "data": {
      "text/plain": [
       "count    100000.000000\n",
       "mean         18.833990\n",
       "std           9.655794\n",
       "min           6.000000\n",
       "25%          11.000000\n",
       "50%          16.000000\n",
       "75%          24.000000\n",
       "max          61.000000\n",
       "Name: months, dtype: float64"
      ]
     },
     "execution_count": 113,
     "metadata": {},
     "output_type": "execute_result"
    }
   ],
   "source": [
    "raw_data.months.describe()"
   ]
  }
 ],
 "metadata": {
  "kernelspec": {
   "display_name": "Python 3",
   "language": "python",
   "name": "python3"
  },
  "language_info": {
   "codemirror_mode": {
    "name": "ipython",
    "version": 3
   },
   "file_extension": ".py",
   "mimetype": "text/x-python",
   "name": "python",
   "nbconvert_exporter": "python",
   "pygments_lexer": "ipython3",
   "version": "3.8.5"
  }
 },
 "nbformat": 4,
 "nbformat_minor": 4
}
