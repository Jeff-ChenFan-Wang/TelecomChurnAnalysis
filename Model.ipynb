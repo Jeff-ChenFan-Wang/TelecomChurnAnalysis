{
 "cells": [
  {
   "cell_type": "markdown",
   "metadata": {},
   "source": [
    "# Model Building"
   ]
  },
  {
   "cell_type": "code",
   "execution_count": 1,
   "metadata": {},
   "outputs": [],
   "source": [
    "import pandas as pd\n",
    "import numpy as np\n",
    "import json"
   ]
  },
  {
   "cell_type": "code",
   "execution_count": 2,
   "metadata": {},
   "outputs": [],
   "source": [
    "%reload_ext autoreload\n",
    "%autoreload 2"
   ]
  },
  {
   "cell_type": "code",
   "execution_count": 3,
   "metadata": {},
   "outputs": [],
   "source": [
    "from typing import List"
   ]
  },
  {
   "cell_type": "markdown",
   "metadata": {},
   "source": [
    "Set a predetermined seed so all our results can be replicated"
   ]
  },
  {
   "cell_type": "code",
   "execution_count": 4,
   "metadata": {},
   "outputs": [],
   "source": [
    "RANDOM_SEED = 1337"
   ]
  },
  {
   "cell_type": "markdown",
   "metadata": {},
   "source": [
    "# Preprocessing"
   ]
  },
  {
   "cell_type": "code",
   "execution_count": 5,
   "metadata": {},
   "outputs": [],
   "source": [
    "from sklearn.model_selection import train_test_split"
   ]
  },
  {
   "cell_type": "code",
   "execution_count": 6,
   "metadata": {},
   "outputs": [],
   "source": [
    "full_data = pd.read_csv('Dataset/clean_data.csv', index_col='Customer_ID')"
   ]
  },
  {
   "cell_type": "code",
   "execution_count": 7,
   "metadata": {},
   "outputs": [],
   "source": [
    "#Separate target column with rest of the data\n",
    "churn_col = full_data['churn'].copy()\n",
    "full_data = full_data.drop('churn',axis=1)"
   ]
  },
  {
   "cell_type": "markdown",
   "metadata": {},
   "source": [
    "Since we're finished with EDA in the other notebook, we can start splitting the data into training and testing sets. For models that need validation, we will utilize k-fold CV later on. "
   ]
  },
  {
   "cell_type": "code",
   "execution_count": 8,
   "metadata": {},
   "outputs": [],
   "source": [
    "#Separate data for training and testing with 80% for training and 20% testing\n",
    "#Uses our preselected random seed to results are reproducible \n",
    "raw_x_train, raw_x_test, y_train, y_test = train_test_split(\n",
    "    full_data,\n",
    "    churn_col,\n",
    "    test_size=0.2,\n",
    "    random_state=RANDOM_SEED\n",
    ")"
   ]
  },
  {
   "cell_type": "code",
   "execution_count": 9,
   "metadata": {},
   "outputs": [],
   "source": [
    "with open('columnDescriptions.json','r') as f:\n",
    "    col_desc = json.load(f)\n",
    "    \n",
    "#Shortened descriptions with elipses for plot titles\n",
    "#Only retains first 20 characters of description then appends with elipses\n",
    "short_col_desc = dict(zip(\n",
    "    col_desc.keys(),\n",
    "    map(lambda desc: \n",
    "        desc if len(desc)<20 else f'{desc[:20]}...', col_desc.values()\n",
    "    )\n",
    "))"
   ]
  },
  {
   "cell_type": "markdown",
   "metadata": {},
   "source": [
    "We will use several different algorithms then compare their performance afterwards to determine which is the best to use. The algorithm we will use are: \n",
    "- Logistic Regression\n",
    "- K Nearest Neighbor Classifier\n",
    "- Random Forest\n",
    "- XGBoost\n",
    "- LightGBM\n",
    "\n",
    "Since the implementations selected for the above algorithms have differing aptitudes for missing values and normalization, we will need different preprocessing pipelines of the data. For example, XGBoost and LightGBM can handle nan values (XGBoost learns whether to split nan values during training, while LightGBM allocates nan values to reduce loss afterwards) while the sklearn implementations of Logisitic regression, KNN classifier, and random forest cannot. "
   ]
  },
  {
   "cell_type": "code",
   "execution_count": 71,
   "metadata": {},
   "outputs": [],
   "source": [
    "from model_utils import PipelineFactory"
   ]
  },
  {
   "cell_type": "code",
   "execution_count": 72,
   "metadata": {},
   "outputs": [],
   "source": [
    "pf = PipelineFactory(full_data)\n",
    "pca_pipe = pf.create_pipe(pca=True,impute=True,normalize=True)\n",
    "# impute_normalize_pipe = pf.create_pipe(impute=True,normalize=True)\n",
    "# impute_pipe = pf.create_pipe(impute=True,normalize=False)\n",
    "# ohe_pipe = pf.create_pipe(impute=False,normalize=False)"
   ]
  },
  {
   "cell_type": "code",
   "execution_count": 73,
   "metadata": {},
   "outputs": [],
   "source": [
    "x_train = pca_pipe.fit_transform(raw_x_train)"
   ]
  },
  {
   "cell_type": "code",
   "execution_count": 108,
   "metadata": {},
   "outputs": [
    {
     "ename": "AttributeError",
     "evalue": "'ColumnTransformer' object has no attribute 'get_feature_names_in'",
     "output_type": "error",
     "traceback": [
      "\u001b[1;31m---------------------------------------------------------------------------\u001b[0m",
      "\u001b[1;31mAttributeError\u001b[0m                            Traceback (most recent call last)",
      "\u001b[1;32mc:\\Users\\j3ff1\\Documents\\SchoolWork\\MLProjects\\TelecomChurnAnalysis\\Model.ipynb Cell 18\u001b[0m in \u001b[0;36m<cell line: 1>\u001b[1;34m()\u001b[0m\n\u001b[1;32m----> <a href='vscode-notebook-cell:/c%3A/Users/j3ff1/Documents/SchoolWork/MLProjects/TelecomChurnAnalysis/Model.ipynb#X52sZmlsZQ%3D%3D?line=0'>1</a>\u001b[0m \u001b[39mdict\u001b[39;49m(pca_pipe\u001b[39m.\u001b[39;49mtransformer_list)[\u001b[39m'\u001b[39;49m\u001b[39mbin\u001b[39;49m\u001b[39m'\u001b[39;49m]\u001b[39m.\u001b[39;49msteps[\u001b[39m0\u001b[39;49m][\u001b[39m1\u001b[39;49m]\u001b[39m.\u001b[39;49mget_feature_names_in()\n",
      "\u001b[1;31mAttributeError\u001b[0m: 'ColumnTransformer' object has no attribute 'get_feature_names_in'"
     ]
    }
   ],
   "source": [
    "dict(pca_pipe.transformer_list)['bin'].steps[0][1].get_feature_names_in()"
   ]
  },
  {
   "cell_type": "code",
   "execution_count": 102,
   "metadata": {},
   "outputs": [
    {
     "data": {
      "text/plain": [
       "array(['select_num__asl_flag', 'select_num__creditcd',\n",
       "       'select_num__forgntvl', 'select_num__has_kid',\n",
       "       'select_num__kid0_2', 'select_num__kid11_15',\n",
       "       'select_num__kid16_17', 'select_num__kid3_5',\n",
       "       'select_num__kid6_10', 'select_num__refurb_new', 'select_num__rv',\n",
       "       'select_num__truck'], dtype=object)"
      ]
     },
     "execution_count": 102,
     "metadata": {},
     "output_type": "execute_result"
    }
   ],
   "source": [
    "dict(pca_pipe.transformer_list)['bin'].steps[0][1].get_feature_names_out()"
   ]
  },
  {
   "cell_type": "code",
   "execution_count": 31,
   "metadata": {},
   "outputs": [
    {
     "name": "stdout",
     "output_type": "stream",
     "text": [
      "transformer_list\n",
      "n_jobs\n",
      "transformer_weights\n",
      "verbose\n"
     ]
    }
   ],
   "source": [
    "for i in pca_pipe.__dict__:\n",
    "    print(i)"
   ]
  },
  {
   "cell_type": "code",
   "execution_count": null,
   "metadata": {},
   "outputs": [],
   "source": []
  },
  {
   "cell_type": "code",
   "execution_count": 12,
   "metadata": {},
   "outputs": [],
   "source": [
    "cat_cols = full_data.select_dtypes('object').columns\n",
    "num_cols = full_data.select_dtypes(np.number).columns"
   ]
  },
  {
   "cell_type": "code",
   "execution_count": null,
   "metadata": {},
   "outputs": [],
   "source": []
  },
  {
   "cell_type": "code",
   "execution_count": null,
   "metadata": {},
   "outputs": [],
   "source": []
  },
  {
   "cell_type": "code",
   "execution_count": null,
   "metadata": {},
   "outputs": [],
   "source": []
  },
  {
   "cell_type": "markdown",
   "metadata": {},
   "source": [
    "# Model building"
   ]
  },
  {
   "cell_type": "code",
   "execution_count": 13,
   "metadata": {},
   "outputs": [],
   "source": [
    "from sklearn.linear_model import LogisticRegressionCV\n",
    "from sklearn.neighbors import KNeighborsClassifier\n",
    "from sklearn.ensemble import RandomForestClassifier\n",
    "import xgboost as xgb\n",
    "import lightgbm as lgbm"
   ]
  },
  {
   "cell_type": "markdown",
   "metadata": {},
   "source": [
    "## Logistic Regression"
   ]
  },
  {
   "cell_type": "code",
   "execution_count": 74,
   "metadata": {},
   "outputs": [
    {
     "data": {
      "text/plain": [
       "array([['GREAT LAKES AREA', 'AA', 'Y', ..., True, False, False],\n",
       "       ['SOUTHWEST AREA', 'AA', 'Y', ..., True, True, True],\n",
       "       ['CALIFORNIA NORTH AREA', 'BA', 'Y', ..., False, False, False],\n",
       "       ...,\n",
       "       ['LOS ANGELES AREA', 'CY', 'Y', ..., False, False, False],\n",
       "       ['CHICAGO AREA', 'BA', 'Y', ..., False, False, False],\n",
       "       ['CALIFORNIA NORTH AREA', 'B', 'Y', ..., False, False, False]],\n",
       "      dtype=object)"
      ]
     },
     "execution_count": 74,
     "metadata": {},
     "output_type": "execute_result"
    }
   ],
   "source": [
    "# pca_pipe.steps[2][1].fit_transform(\n",
    "pca_pipe.steps[1][1].fit_transform(\n",
    "    pca_pipe.steps[0][1].fit_transform(raw_x_train)\n",
    ")\n",
    "# )"
   ]
  },
  {
   "cell_type": "code",
   "execution_count": 75,
   "metadata": {},
   "outputs": [],
   "source": [
    "x_train = pca_pipe.fit_transform(raw_x_train)\n",
    "x_test = impute_normalize_pipe.transform(raw_x_test)"
   ]
  },
  {
   "cell_type": "code",
   "execution_count": 18,
   "metadata": {},
   "outputs": [],
   "source": [
    "# L2 regularized logistic regression\n",
    "# 5 default chosen regularization strength\n",
    "# 5 fold CV (80% training 20% validation)\n",
    "log_reg = LogisticRegressionCV(\n",
    "    Cs=\n",
    "    random_state=RANDOM_SEED,\n",
    "    class_weight='balanced'\n",
    ")"
   ]
  }
 ],
 "metadata": {
  "kernelspec": {
   "display_name": "Python 3.10.6 ('telecomChurn')",
   "language": "python",
   "name": "python3"
  },
  "language_info": {
   "codemirror_mode": {
    "name": "ipython",
    "version": 3
   },
   "file_extension": ".py",
   "mimetype": "text/x-python",
   "name": "python",
   "nbconvert_exporter": "python",
   "pygments_lexer": "ipython3",
   "version": "3.10.6"
  },
  "orig_nbformat": 4,
  "vscode": {
   "interpreter": {
    "hash": "74019023e52479c1d7af2c5264d58e3c0847e60dcc8a2d39bc57a9391d0d8eaa"
   }
  }
 },
 "nbformat": 4,
 "nbformat_minor": 2
}
