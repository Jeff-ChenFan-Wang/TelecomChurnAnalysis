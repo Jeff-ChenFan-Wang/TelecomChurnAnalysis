{
 "cells": [
  {
   "cell_type": "markdown",
   "metadata": {},
   "source": [
    "# Model Building"
   ]
  },
  {
   "cell_type": "code",
   "execution_count": 1,
   "metadata": {},
   "outputs": [],
   "source": [
    "import pandas as pd\n",
    "import numpy as np\n",
    "import json"
   ]
  },
  {
   "cell_type": "code",
   "execution_count": 2,
   "metadata": {},
   "outputs": [],
   "source": [
    "from typing import List"
   ]
  },
  {
   "cell_type": "markdown",
   "metadata": {},
   "source": [
    "Set a predetermined seed so all our results can be replicated"
   ]
  },
  {
   "cell_type": "code",
   "execution_count": 3,
   "metadata": {},
   "outputs": [],
   "source": [
    "RANDOM_SEED = 1337"
   ]
  },
  {
   "cell_type": "markdown",
   "metadata": {},
   "source": [
    "# Preprocessing"
   ]
  },
  {
   "cell_type": "code",
   "execution_count": 4,
   "metadata": {},
   "outputs": [],
   "source": [
    "from sklearn.model_selection import train_test_split"
   ]
  },
  {
   "cell_type": "code",
   "execution_count": 5,
   "metadata": {},
   "outputs": [],
   "source": [
    "full_data = pd.read_csv('Dataset/clean_data.csv', index_col='Customer_ID')"
   ]
  },
  {
   "cell_type": "code",
   "execution_count": 6,
   "metadata": {},
   "outputs": [],
   "source": [
    "#Separate target column with rest of the data\n",
    "churn_col = full_data['churn'].copy()\n",
    "full_data = full_data.drop('churn',axis=1)"
   ]
  },
  {
   "cell_type": "code",
   "execution_count": 7,
   "metadata": {},
   "outputs": [],
   "source": [
    "#Separate data for training and testing with 80% for training and 20% testing\n",
    "#Uses our preselected random seed to results are reproducible \n",
    "x_train, x_test, y_train, y_test = train_test_split(\n",
    "    full_data,\n",
    "    churn_col,\n",
    "    test_size=0.2,\n",
    "    random_state=RANDOM_SEED\n",
    ")"
   ]
  },
  {
   "cell_type": "code",
   "execution_count": 8,
   "metadata": {},
   "outputs": [],
   "source": [
    "with open('columnDescriptions.json','r') as f:\n",
    "    col_desc = json.load(f)\n",
    "    \n",
    "#Shortened descriptions with elipses for plot titles\n",
    "#Only retains first 20 characters of description then appends with elipses\n",
    "short_col_desc = dict(zip(\n",
    "    col_desc.keys(),\n",
    "    map(lambda desc: \n",
    "        desc if len(desc)<20 else f'{desc[:20]}...', col_desc.values()\n",
    "    )\n",
    "))"
   ]
  },
  {
   "cell_type": "markdown",
   "metadata": {},
   "source": [
    "We will use several different algorithms then compare their performance afterwards to determine which is the best to use. The algorithm we will use are: \n",
    "- Logistic Regression\n",
    "- K Nearest Neighbor Classifier\n",
    "- Random Forest\n",
    "- XGBoost\n",
    "- LightGBM"
   ]
  },
  {
   "cell_type": "code",
   "execution_count": 9,
   "metadata": {},
   "outputs": [],
   "source": [
    "from sklearn.pipeline import Pipeline, make_pipeline\n",
    "from sklearn.preprocessing import StandardScaler, OneHotEncoder\n",
    "from sklearn.compose import ColumnTransformer\n",
    "from sklearn.impute import SimpleImputer"
   ]
  },
  {
   "cell_type": "code",
   "execution_count": 20,
   "metadata": {},
   "outputs": [],
   "source": [
    "class PipelineFactory:\n",
    "    \n",
    "    def create_pipe(\n",
    "            self, impute:bool, scale:bool,\n",
    "            cat_cols:List[str], num_cols:List[str])->Pipeline:\n",
    "        \n",
    "        if impute & scale:\n",
    "            return self.impute_ohe_scale(cat_cols,num_cols)\n",
    "    \n",
    "    def impute_ohe_scale(\n",
    "            self, cat_cols:List[str], \n",
    "            num_cols:List[str])->Pipeline:\n",
    "        pipe = make_pipeline(\n",
    "            SimpleImputer(strategy='most_frequent'),\n",
    "            ColumnTransformer([\n",
    "                ('ohe',OneHotEncoder(),cat_cols),\n",
    "                ('scale',StandardScaler(),num_cols)\n",
    "            ])\n",
    "        )\n",
    "        return pipe\n",
    "    \n",
    "    def impute_ohe(\n",
    "            self,cat_cols:List[str], \n",
    "            num_cols:List[str])->Pipeline:\n",
    "        return\n",
    "    \n",
    "    def ohe(\n",
    "            self, cat_cols:List[str], \n",
    "            num_cols:List[str])->Pipeline:\n",
    "        return\n",
    "    \n"
   ]
  },
  {
   "cell_type": "code",
   "execution_count": 21,
   "metadata": {},
   "outputs": [],
   "source": [
    "pf = PipelineFactory()\n",
    "pipe = pf.create_pipe(True,True,full_data.select_dtypes(np.number).columns,full_data.select_dtypes('object').columns)"
   ]
  },
  {
   "cell_type": "code",
   "execution_count": 30,
   "metadata": {},
   "outputs": [
    {
     "data": {
      "text/plain": [
       "array([[1, 4085.0, 1602, ..., 6.333333333, 2, 0.0],\n",
       "       [1, 26367.0, 14624, ..., 61.33333333, 1, 9.1],\n",
       "       [1, 24303.05, 7888, ..., 2.666666667, 1, 0.0],\n",
       "       ...,\n",
       "       [1, 9234.0, 1238, ..., 0.0, 1, 0.0],\n",
       "       [1, 20488.0, 9921, ..., 117.3333333, 1, 0.0],\n",
       "       [1, 2225.0, 1231, ..., 19.33333333, 1, 0.4083333335]], dtype=object)"
      ]
     },
     "execution_count": 30,
     "metadata": {},
     "output_type": "execute_result"
    }
   ],
   "source": [
    "pipe.steps[0][1].fit_transform(full_data)"
   ]
  },
  {
   "cell_type": "code",
   "execution_count": 40,
   "metadata": {},
   "outputs": [
    {
     "ename": "AttributeError",
     "evalue": "'SimpleImputer' object has no attribute 'get_feature_names_out'",
     "output_type": "error",
     "traceback": [
      "\u001b[1;31m---------------------------------------------------------------------------\u001b[0m",
      "\u001b[1;31mAttributeError\u001b[0m                            Traceback (most recent call last)",
      "\u001b[1;32md:\\MLProjects\\TelecomChurnAnalysis\\Model.ipynb Cell 17\u001b[0m in \u001b[0;36m<cell line: 1>\u001b[1;34m()\u001b[0m\n\u001b[1;32m----> <a href='vscode-notebook-cell:/d%3A/MLProjects/TelecomChurnAnalysis/Model.ipynb#X30sZmlsZQ%3D%3D?line=0'>1</a>\u001b[0m pipe\u001b[39m.\u001b[39;49msteps[\u001b[39m0\u001b[39;49m][\u001b[39m1\u001b[39;49m]\u001b[39m.\u001b[39;49mget_feature_names_out()\n",
      "\u001b[1;31mAttributeError\u001b[0m: 'SimpleImputer' object has no attribute 'get_feature_names_out'"
     ]
    }
   ],
   "source": [
    "pipe.steps[0][1]."
   ]
  },
  {
   "cell_type": "code",
   "execution_count": 14,
   "metadata": {},
   "outputs": [
    {
     "data": {
      "text/plain": [
       "Index(['actvsubs', 'adjmou', 'adjqty', 'adjrev', 'adults', 'asl_flag',\n",
       "       'attempt_mean', 'avg3mou', 'avg3qty', 'avg3rev', 'avg6mou', 'avg6qty',\n",
       "       'avg6rev', 'avgmou', 'avgqty', 'avgrev', 'blck_dat_mean',\n",
       "       'blck_vce_mean', 'callfwdv_mean', 'callwait_mean', 'cc_mou_mean',\n",
       "       'ccrndmou_mean', 'change_mou', 'change_rev', 'comp_dat_mean',\n",
       "       'comp_vce_mean', 'complete_mean', 'creditcd', 'custcare_mean',\n",
       "       'da_mean', 'datovr_mean', 'drop_blk_mean', 'drop_dat_mean',\n",
       "       'drop_vce_mean', 'dwlltype', 'eqpdays', 'forgntvl', 'has_kid',\n",
       "       'hnd_price', 'income', 'infobase', 'inonemin_mean', 'iwylis_vce_mean',\n",
       "       'kid0_2', 'kid11_15', 'kid16_17', 'kid3_5', 'kid6_10', 'lor', 'models',\n",
       "       'months', 'mou_cdat_mean', 'mou_cvce_mean', 'mou_mean', 'mou_opkd_mean',\n",
       "       'mou_opkv_mean', 'mou_pead_mean', 'mou_peav_mean', 'mou_rvce_mean',\n",
       "       'mouiwylisv_mean', 'mouowylisv_mean', 'new_cell', 'numbcars',\n",
       "       'opk_dat_mean', 'opk_vce_mean', 'ovrmou_mean', 'ovrrev_mean', 'ownrent',\n",
       "       'owylis_vce_mean', 'peak_dat_mean', 'peak_vce_mean', 'phones',\n",
       "       'plcd_dat_mean', 'plcd_vce_mean', 'recv_sms_mean', 'recv_vce_mean',\n",
       "       'refurb_new', 'rev_mean', 'roam_mean', 'rv', 'threeway_mean',\n",
       "       'totcalls', 'totmou', 'totmrc_mean', 'totrev', 'truck', 'unan_dat_mean',\n",
       "       'unan_vce_mean', 'uniqsubs', 'vceovr_mean'],\n",
       "      dtype='object')"
      ]
     },
     "execution_count": 14,
     "metadata": {},
     "output_type": "execute_result"
    }
   ],
   "source": [
    "full_data.select_dtypes(np.number).columns"
   ]
  }
 ],
 "metadata": {
  "kernelspec": {
   "display_name": "Python 3.8.13 ('telecomChurn')",
   "language": "python",
   "name": "python3"
  },
  "language_info": {
   "codemirror_mode": {
    "name": "ipython",
    "version": 3
   },
   "file_extension": ".py",
   "mimetype": "text/x-python",
   "name": "python",
   "nbconvert_exporter": "python",
   "pygments_lexer": "ipython3",
   "version": "3.10.4"
  },
  "orig_nbformat": 4,
  "vscode": {
   "interpreter": {
    "hash": "2fbdce887e3e5f960b74eaae67cd2ebc9c84860334727f842ebfba4f686e38cf"
   }
  }
 },
 "nbformat": 4,
 "nbformat_minor": 2
}
