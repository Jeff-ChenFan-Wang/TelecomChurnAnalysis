{
 "cells": [
  {
   "cell_type": "markdown",
   "metadata": {},
   "source": [
    "# Model Building"
   ]
  },
  {
   "cell_type": "code",
   "execution_count": null,
   "metadata": {},
   "outputs": [],
   "source": [
    "import pandas as pd\n",
    "import numpy as np\n",
    "import json"
   ]
  },
  {
   "cell_type": "code",
   "execution_count": null,
   "metadata": {},
   "outputs": [],
   "source": [
    "%reload_ext autoreload\n",
    "%autoreload 2"
   ]
  },
  {
   "cell_type": "code",
   "execution_count": null,
   "metadata": {},
   "outputs": [],
   "source": [
    "from typing import List"
   ]
  },
  {
   "cell_type": "markdown",
   "metadata": {},
   "source": [
    "Set a predetermined seed so all our results can be replicated"
   ]
  },
  {
   "cell_type": "code",
   "execution_count": null,
   "metadata": {},
   "outputs": [],
   "source": [
    "RANDOM_SEED = 1337"
   ]
  },
  {
   "cell_type": "markdown",
   "metadata": {},
   "source": [
    "# Preprocessing"
   ]
  },
  {
   "cell_type": "code",
   "execution_count": null,
   "metadata": {},
   "outputs": [],
   "source": [
    "from sklearn.model_selection import train_test_split"
   ]
  },
  {
   "cell_type": "code",
   "execution_count": null,
   "metadata": {},
   "outputs": [],
   "source": [
    "full_data = pd.read_csv('Dataset/clean_data.csv', index_col='Customer_ID')"
   ]
  },
  {
   "cell_type": "code",
   "execution_count": null,
   "metadata": {},
   "outputs": [],
   "source": [
    "#Separate target column with rest of the data\n",
    "churn_col = full_data['churn'].copy()\n",
    "full_data = full_data.drop('churn',axis=1)"
   ]
  },
  {
   "cell_type": "markdown",
   "metadata": {},
   "source": [
    "Since we're finished with EDA in the other notebook, we can start splitting the data into training and testing sets. For models that need validation, we will utilize k-fold CV later on. "
   ]
  },
  {
   "cell_type": "code",
   "execution_count": 8,
   "metadata": {},
   "outputs": [],
   "source": [
    "#Separate data for training and testing with 80% for training and 20% testing\n",
    "#Uses our preselected random seed to results are reproducible \n",
    "raw_x_train, raw_x_test, y_train, y_test = train_test_split(\n",
    "    full_data,\n",
    "    churn_col,\n",
    "    test_size=0.2,\n",
    "    random_state=RANDOM_SEED\n",
    ")"
   ]
  },
  {
   "cell_type": "code",
   "execution_count": null,
   "metadata": {},
   "outputs": [],
   "source": [
    "with open('columnDescriptions.json','r') as f:\n",
    "    col_desc = json.load(f)\n",
    "    \n",
    "#Shortened descriptions with elipses for plot titles\n",
    "#Only retains first 20 characters of description then appends with elipses\n",
    "short_col_desc = dict(zip(\n",
    "    col_desc.keys(),\n",
    "    map(lambda desc: \n",
    "        desc if len(desc)<20 else f'{desc[:20]}...', col_desc.values()\n",
    "    )\n",
    "))"
   ]
  },
  {
   "cell_type": "markdown",
   "metadata": {},
   "source": [
    "We will use several different algorithms then compare their performance afterwards to determine which is the best to use. The algorithm we will use are: \n",
    "- Logistic Regression\n",
    "- K Nearest Neighbor Classifier\n",
    "- Random Forest\n",
    "- XGBoost\n",
    "- LightGBM\n",
    "\n",
    "Since the implementations selected for the above algorithms have differing aptitudes for missing values and normalization, we will need different preprocessing pipelines of the data. For example, XGBoost and LightGBM can handle nan values (XGBoost learns whether to split nan values during training, while LightGBM allocates nan values to reduce loss afterwards) while the sklearn implementations of Logisitic regression, KNN classifier, and random forest cannot. "
   ]
  },
  {
   "cell_type": "code",
   "execution_count": 1,
   "metadata": {},
   "outputs": [],
   "source": [
    "from model_utils import PipelineFactory"
   ]
  },
  {
   "cell_type": "code",
   "execution_count": 71,
   "metadata": {},
   "outputs": [],
   "source": [
    "pf = PipelineFactory(full_data)\n",
    "pca_pipe = pf.create_pipe(pca=True,impute=True,normalize=True)\n",
    "impute_normalize_pipe = pf.create_pipe(impute=True,normalize=True)\n",
    "impute_pipe = pf.create_pipe(impute=True,normalize=False)\n",
    "ohe_pipe = pf.create_pipe(impute=False,normalize=False)"
   ]
  },
  {
   "cell_type": "markdown",
   "metadata": {},
   "source": [
    "# Model building"
   ]
  },
  {
   "cell_type": "code",
   "execution_count": 12,
   "metadata": {},
   "outputs": [],
   "source": [
    "from sklearn.linear_model import LogisticRegressionCV\n",
    "from sklearn.neighbors import KNeighborsClassifier\n",
    "from sklearn.ensemble import RandomForestClassifier\n",
    "import xgboost as xgb\n",
    "import lightgbm as lgbm"
   ]
  },
  {
   "cell_type": "markdown",
   "metadata": {},
   "source": [
    "## Logistic Regression"
   ]
  },
  {
   "cell_type": "code",
   "execution_count": 73,
   "metadata": {},
   "outputs": [
    {
     "data": {
      "text/html": [
       "<style>#sk-container-id-9 {color: black;background-color: white;}#sk-container-id-9 pre{padding: 0;}#sk-container-id-9 div.sk-toggleable {background-color: white;}#sk-container-id-9 label.sk-toggleable__label {cursor: pointer;display: block;width: 100%;margin-bottom: 0;padding: 0.3em;box-sizing: border-box;text-align: center;}#sk-container-id-9 label.sk-toggleable__label-arrow:before {content: \"▸\";float: left;margin-right: 0.25em;color: #696969;}#sk-container-id-9 label.sk-toggleable__label-arrow:hover:before {color: black;}#sk-container-id-9 div.sk-estimator:hover label.sk-toggleable__label-arrow:before {color: black;}#sk-container-id-9 div.sk-toggleable__content {max-height: 0;max-width: 0;overflow: hidden;text-align: left;background-color: #f0f8ff;}#sk-container-id-9 div.sk-toggleable__content pre {margin: 0.2em;color: black;border-radius: 0.25em;background-color: #f0f8ff;}#sk-container-id-9 input.sk-toggleable__control:checked~div.sk-toggleable__content {max-height: 200px;max-width: 100%;overflow: auto;}#sk-container-id-9 input.sk-toggleable__control:checked~label.sk-toggleable__label-arrow:before {content: \"▾\";}#sk-container-id-9 div.sk-estimator input.sk-toggleable__control:checked~label.sk-toggleable__label {background-color: #d4ebff;}#sk-container-id-9 div.sk-label input.sk-toggleable__control:checked~label.sk-toggleable__label {background-color: #d4ebff;}#sk-container-id-9 input.sk-hidden--visually {border: 0;clip: rect(1px 1px 1px 1px);clip: rect(1px, 1px, 1px, 1px);height: 1px;margin: -1px;overflow: hidden;padding: 0;position: absolute;width: 1px;}#sk-container-id-9 div.sk-estimator {font-family: monospace;background-color: #f0f8ff;border: 1px dotted black;border-radius: 0.25em;box-sizing: border-box;margin-bottom: 0.5em;}#sk-container-id-9 div.sk-estimator:hover {background-color: #d4ebff;}#sk-container-id-9 div.sk-parallel-item::after {content: \"\";width: 100%;border-bottom: 1px solid gray;flex-grow: 1;}#sk-container-id-9 div.sk-label:hover label.sk-toggleable__label {background-color: #d4ebff;}#sk-container-id-9 div.sk-serial::before {content: \"\";position: absolute;border-left: 1px solid gray;box-sizing: border-box;top: 0;bottom: 0;left: 50%;z-index: 0;}#sk-container-id-9 div.sk-serial {display: flex;flex-direction: column;align-items: center;background-color: white;padding-right: 0.2em;padding-left: 0.2em;position: relative;}#sk-container-id-9 div.sk-item {position: relative;z-index: 1;}#sk-container-id-9 div.sk-parallel {display: flex;align-items: stretch;justify-content: center;background-color: white;position: relative;}#sk-container-id-9 div.sk-item::before, #sk-container-id-9 div.sk-parallel-item::before {content: \"\";position: absolute;border-left: 1px solid gray;box-sizing: border-box;top: 0;bottom: 0;left: 50%;z-index: -1;}#sk-container-id-9 div.sk-parallel-item {display: flex;flex-direction: column;z-index: 1;position: relative;background-color: white;}#sk-container-id-9 div.sk-parallel-item:first-child::after {align-self: flex-end;width: 50%;}#sk-container-id-9 div.sk-parallel-item:last-child::after {align-self: flex-start;width: 50%;}#sk-container-id-9 div.sk-parallel-item:only-child::after {width: 0;}#sk-container-id-9 div.sk-dashed-wrapped {border: 1px dashed gray;margin: 0 0.4em 0.5em 0.4em;box-sizing: border-box;padding-bottom: 0.4em;background-color: white;}#sk-container-id-9 div.sk-label label {font-family: monospace;font-weight: bold;display: inline-block;line-height: 1.2em;}#sk-container-id-9 div.sk-label-container {text-align: center;}#sk-container-id-9 div.sk-container {/* jupyter's `normalize.less` sets `[hidden] { display: none; }` but bootstrap.min.css set `[hidden] { display: none !important; }` so we also need the `!important` here to be able to override the default hidden behavior on the sphinx rendered scikit-learn.org. See: https://github.com/scikit-learn/scikit-learn/issues/21755 */display: inline-block !important;position: relative;}#sk-container-id-9 div.sk-text-repr-fallback {display: none;}</style><div id=\"sk-container-id-9\" class=\"sk-top-container\"><div class=\"sk-text-repr-fallback\"><pre>Pipeline(steps=[(&#x27;impute&#x27;, SimpleImputer(strategy=&#x27;most_frequent&#x27;)),\n",
       "                (&#x27;ScaleNumerical&#x27;,\n",
       "                 ColumnTransformer(transformers=[(&#x27;categorical_vars&#x27;,\n",
       "                                                  &#x27;passthrough&#x27;,\n",
       "                                                  array([ 5, 28, 36, 37, 42, 44, 53, 66, 72, 79], dtype=int64)),\n",
       "                                                 (&#x27;numeric_vars&#x27;,\n",
       "                                                  StandardScaler(),\n",
       "                                                  array([ 0,  1,  2,  3,  4,  7,  8,  9, 10, 11, 12, 13, 14, 15, 16, 17, 18,\n",
       "       19, 20, 21, 22, 23, 24, 25, 26, 27, 30, 31, 32, 33, 34, 35, 38, 41,\n",
       "       43, 45, 46, 52, 54...\n",
       "                                                 (&#x27;numeric_vars&#x27;,\n",
       "                                                  PCA(random_state=1337),\n",
       "                                                  array([ 0,  1,  2,  3,  4,  7,  8,  9, 10, 11, 12, 13, 14, 15, 16, 17, 18,\n",
       "       19, 20, 21, 22, 23, 24, 25, 26, 27, 30, 31, 32, 33, 34, 35, 38, 41,\n",
       "       43, 45, 46, 52, 54, 55, 56, 57, 58, 59, 60, 61, 62, 63, 64, 65, 67,\n",
       "       68, 69, 70, 71, 73, 74, 75, 76, 77, 78, 80, 81, 83, 84, 86, 87, 88,\n",
       "       89, 90, 92, 93, 94, 95], dtype=int64)),\n",
       "                                                 (&#x27;binary_vars&#x27;, &#x27;passthrough&#x27;,\n",
       "                                                  array([ 6, 29, 39, 40, 47, 48, 49, 50, 51, 82, 85, 91], dtype=int64))]))])</pre><b>In a Jupyter environment, please rerun this cell to show the HTML representation or trust the notebook. <br />On GitHub, the HTML representation is unable to render, please try loading this page with nbviewer.org.</b></div><div class=\"sk-container\" hidden><div class=\"sk-item sk-dashed-wrapped\"><div class=\"sk-label-container\"><div class=\"sk-label sk-toggleable\"><input class=\"sk-toggleable__control sk-hidden--visually\" id=\"sk-estimator-id-90\" type=\"checkbox\" ><label for=\"sk-estimator-id-90\" class=\"sk-toggleable__label sk-toggleable__label-arrow\">Pipeline</label><div class=\"sk-toggleable__content\"><pre>Pipeline(steps=[(&#x27;impute&#x27;, SimpleImputer(strategy=&#x27;most_frequent&#x27;)),\n",
       "                (&#x27;ScaleNumerical&#x27;,\n",
       "                 ColumnTransformer(transformers=[(&#x27;categorical_vars&#x27;,\n",
       "                                                  &#x27;passthrough&#x27;,\n",
       "                                                  array([ 5, 28, 36, 37, 42, 44, 53, 66, 72, 79], dtype=int64)),\n",
       "                                                 (&#x27;numeric_vars&#x27;,\n",
       "                                                  StandardScaler(),\n",
       "                                                  array([ 0,  1,  2,  3,  4,  7,  8,  9, 10, 11, 12, 13, 14, 15, 16, 17, 18,\n",
       "       19, 20, 21, 22, 23, 24, 25, 26, 27, 30, 31, 32, 33, 34, 35, 38, 41,\n",
       "       43, 45, 46, 52, 54...\n",
       "                                                 (&#x27;numeric_vars&#x27;,\n",
       "                                                  PCA(random_state=1337),\n",
       "                                                  array([ 0,  1,  2,  3,  4,  7,  8,  9, 10, 11, 12, 13, 14, 15, 16, 17, 18,\n",
       "       19, 20, 21, 22, 23, 24, 25, 26, 27, 30, 31, 32, 33, 34, 35, 38, 41,\n",
       "       43, 45, 46, 52, 54, 55, 56, 57, 58, 59, 60, 61, 62, 63, 64, 65, 67,\n",
       "       68, 69, 70, 71, 73, 74, 75, 76, 77, 78, 80, 81, 83, 84, 86, 87, 88,\n",
       "       89, 90, 92, 93, 94, 95], dtype=int64)),\n",
       "                                                 (&#x27;binary_vars&#x27;, &#x27;passthrough&#x27;,\n",
       "                                                  array([ 6, 29, 39, 40, 47, 48, 49, 50, 51, 82, 85, 91], dtype=int64))]))])</pre></div></div></div><div class=\"sk-serial\"><div class=\"sk-item\"><div class=\"sk-estimator sk-toggleable\"><input class=\"sk-toggleable__control sk-hidden--visually\" id=\"sk-estimator-id-91\" type=\"checkbox\" ><label for=\"sk-estimator-id-91\" class=\"sk-toggleable__label sk-toggleable__label-arrow\">SimpleImputer</label><div class=\"sk-toggleable__content\"><pre>SimpleImputer(strategy=&#x27;most_frequent&#x27;)</pre></div></div></div><div class=\"sk-item sk-dashed-wrapped\"><div class=\"sk-label-container\"><div class=\"sk-label sk-toggleable\"><input class=\"sk-toggleable__control sk-hidden--visually\" id=\"sk-estimator-id-92\" type=\"checkbox\" ><label for=\"sk-estimator-id-92\" class=\"sk-toggleable__label sk-toggleable__label-arrow\">ScaleNumerical: ColumnTransformer</label><div class=\"sk-toggleable__content\"><pre>ColumnTransformer(transformers=[(&#x27;categorical_vars&#x27;, &#x27;passthrough&#x27;,\n",
       "                                 array([ 5, 28, 36, 37, 42, 44, 53, 66, 72, 79], dtype=int64)),\n",
       "                                (&#x27;numeric_vars&#x27;, StandardScaler(),\n",
       "                                 array([ 0,  1,  2,  3,  4,  7,  8,  9, 10, 11, 12, 13, 14, 15, 16, 17, 18,\n",
       "       19, 20, 21, 22, 23, 24, 25, 26, 27, 30, 31, 32, 33, 34, 35, 38, 41,\n",
       "       43, 45, 46, 52, 54, 55, 56, 57, 58, 59, 60, 61, 62, 63, 64, 65, 67,\n",
       "       68, 69, 70, 71, 73, 74, 75, 76, 77, 78, 80, 81, 83, 84, 86, 87, 88,\n",
       "       89, 90, 92, 93, 94, 95], dtype=int64)),\n",
       "                                (&#x27;binary_vars&#x27;, &#x27;passthrough&#x27;,\n",
       "                                 array([ 6, 29, 39, 40, 47, 48, 49, 50, 51, 82, 85, 91], dtype=int64))])</pre></div></div></div><div class=\"sk-parallel\"><div class=\"sk-parallel-item\"><div class=\"sk-item\"><div class=\"sk-label-container\"><div class=\"sk-label sk-toggleable\"><input class=\"sk-toggleable__control sk-hidden--visually\" id=\"sk-estimator-id-93\" type=\"checkbox\" ><label for=\"sk-estimator-id-93\" class=\"sk-toggleable__label sk-toggleable__label-arrow\">categorical_vars</label><div class=\"sk-toggleable__content\"><pre>[ 5 28 36 37 42 44 53 66 72 79]</pre></div></div></div><div class=\"sk-serial\"><div class=\"sk-item\"><div class=\"sk-estimator sk-toggleable\"><input class=\"sk-toggleable__control sk-hidden--visually\" id=\"sk-estimator-id-94\" type=\"checkbox\" ><label for=\"sk-estimator-id-94\" class=\"sk-toggleable__label sk-toggleable__label-arrow\">passthrough</label><div class=\"sk-toggleable__content\"><pre>passthrough</pre></div></div></div></div></div></div><div class=\"sk-parallel-item\"><div class=\"sk-item\"><div class=\"sk-label-container\"><div class=\"sk-label sk-toggleable\"><input class=\"sk-toggleable__control sk-hidden--visually\" id=\"sk-estimator-id-95\" type=\"checkbox\" ><label for=\"sk-estimator-id-95\" class=\"sk-toggleable__label sk-toggleable__label-arrow\">numeric_vars</label><div class=\"sk-toggleable__content\"><pre>[ 0  1  2  3  4  7  8  9 10 11 12 13 14 15 16 17 18 19 20 21 22 23 24 25\n",
       " 26 27 30 31 32 33 34 35 38 41 43 45 46 52 54 55 56 57 58 59 60 61 62 63\n",
       " 64 65 67 68 69 70 71 73 74 75 76 77 78 80 81 83 84 86 87 88 89 90 92 93\n",
       " 94 95]</pre></div></div></div><div class=\"sk-serial\"><div class=\"sk-item\"><div class=\"sk-estimator sk-toggleable\"><input class=\"sk-toggleable__control sk-hidden--visually\" id=\"sk-estimator-id-96\" type=\"checkbox\" ><label for=\"sk-estimator-id-96\" class=\"sk-toggleable__label sk-toggleable__label-arrow\">StandardScaler</label><div class=\"sk-toggleable__content\"><pre>StandardScaler()</pre></div></div></div></div></div></div><div class=\"sk-parallel-item\"><div class=\"sk-item\"><div class=\"sk-label-container\"><div class=\"sk-label sk-toggleable\"><input class=\"sk-toggleable__control sk-hidden--visually\" id=\"sk-estimator-id-97\" type=\"checkbox\" ><label for=\"sk-estimator-id-97\" class=\"sk-toggleable__label sk-toggleable__label-arrow\">binary_vars</label><div class=\"sk-toggleable__content\"><pre>[ 6 29 39 40 47 48 49 50 51 82 85 91]</pre></div></div></div><div class=\"sk-serial\"><div class=\"sk-item\"><div class=\"sk-estimator sk-toggleable\"><input class=\"sk-toggleable__control sk-hidden--visually\" id=\"sk-estimator-id-98\" type=\"checkbox\" ><label for=\"sk-estimator-id-98\" class=\"sk-toggleable__label sk-toggleable__label-arrow\">passthrough</label><div class=\"sk-toggleable__content\"><pre>passthrough</pre></div></div></div></div></div></div></div></div><div class=\"sk-item sk-dashed-wrapped\"><div class=\"sk-label-container\"><div class=\"sk-label sk-toggleable\"><input class=\"sk-toggleable__control sk-hidden--visually\" id=\"sk-estimator-id-99\" type=\"checkbox\" ><label for=\"sk-estimator-id-99\" class=\"sk-toggleable__label sk-toggleable__label-arrow\">OhePca: ColumnTransformer</label><div class=\"sk-toggleable__content\"><pre>ColumnTransformer(transformers=[(&#x27;categorical_vars&#x27;, &#x27;passthrough&#x27;,\n",
       "                                 array([ 5, 28, 36, 37, 42, 44, 53, 66, 72, 79], dtype=int64)),\n",
       "                                (&#x27;numeric_vars&#x27;, PCA(random_state=1337),\n",
       "                                 array([ 0,  1,  2,  3,  4,  7,  8,  9, 10, 11, 12, 13, 14, 15, 16, 17, 18,\n",
       "       19, 20, 21, 22, 23, 24, 25, 26, 27, 30, 31, 32, 33, 34, 35, 38, 41,\n",
       "       43, 45, 46, 52, 54, 55, 56, 57, 58, 59, 60, 61, 62, 63, 64, 65, 67,\n",
       "       68, 69, 70, 71, 73, 74, 75, 76, 77, 78, 80, 81, 83, 84, 86, 87, 88,\n",
       "       89, 90, 92, 93, 94, 95], dtype=int64)),\n",
       "                                (&#x27;binary_vars&#x27;, &#x27;passthrough&#x27;,\n",
       "                                 array([ 6, 29, 39, 40, 47, 48, 49, 50, 51, 82, 85, 91], dtype=int64))])</pre></div></div></div><div class=\"sk-parallel\"><div class=\"sk-parallel-item\"><div class=\"sk-item\"><div class=\"sk-label-container\"><div class=\"sk-label sk-toggleable\"><input class=\"sk-toggleable__control sk-hidden--visually\" id=\"sk-estimator-id-100\" type=\"checkbox\" ><label for=\"sk-estimator-id-100\" class=\"sk-toggleable__label sk-toggleable__label-arrow\">categorical_vars</label><div class=\"sk-toggleable__content\"><pre>[ 5 28 36 37 42 44 53 66 72 79]</pre></div></div></div><div class=\"sk-serial\"><div class=\"sk-item\"><div class=\"sk-estimator sk-toggleable\"><input class=\"sk-toggleable__control sk-hidden--visually\" id=\"sk-estimator-id-101\" type=\"checkbox\" ><label for=\"sk-estimator-id-101\" class=\"sk-toggleable__label sk-toggleable__label-arrow\">passthrough</label><div class=\"sk-toggleable__content\"><pre>passthrough</pre></div></div></div></div></div></div><div class=\"sk-parallel-item\"><div class=\"sk-item\"><div class=\"sk-label-container\"><div class=\"sk-label sk-toggleable\"><input class=\"sk-toggleable__control sk-hidden--visually\" id=\"sk-estimator-id-102\" type=\"checkbox\" ><label for=\"sk-estimator-id-102\" class=\"sk-toggleable__label sk-toggleable__label-arrow\">numeric_vars</label><div class=\"sk-toggleable__content\"><pre>[ 0  1  2  3  4  7  8  9 10 11 12 13 14 15 16 17 18 19 20 21 22 23 24 25\n",
       " 26 27 30 31 32 33 34 35 38 41 43 45 46 52 54 55 56 57 58 59 60 61 62 63\n",
       " 64 65 67 68 69 70 71 73 74 75 76 77 78 80 81 83 84 86 87 88 89 90 92 93\n",
       " 94 95]</pre></div></div></div><div class=\"sk-serial\"><div class=\"sk-item\"><div class=\"sk-estimator sk-toggleable\"><input class=\"sk-toggleable__control sk-hidden--visually\" id=\"sk-estimator-id-103\" type=\"checkbox\" ><label for=\"sk-estimator-id-103\" class=\"sk-toggleable__label sk-toggleable__label-arrow\">PCA</label><div class=\"sk-toggleable__content\"><pre>PCA(random_state=1337)</pre></div></div></div></div></div></div><div class=\"sk-parallel-item\"><div class=\"sk-item\"><div class=\"sk-label-container\"><div class=\"sk-label sk-toggleable\"><input class=\"sk-toggleable__control sk-hidden--visually\" id=\"sk-estimator-id-104\" type=\"checkbox\" ><label for=\"sk-estimator-id-104\" class=\"sk-toggleable__label sk-toggleable__label-arrow\">binary_vars</label><div class=\"sk-toggleable__content\"><pre>[ 6 29 39 40 47 48 49 50 51 82 85 91]</pre></div></div></div><div class=\"sk-serial\"><div class=\"sk-item\"><div class=\"sk-estimator sk-toggleable\"><input class=\"sk-toggleable__control sk-hidden--visually\" id=\"sk-estimator-id-105\" type=\"checkbox\" ><label for=\"sk-estimator-id-105\" class=\"sk-toggleable__label sk-toggleable__label-arrow\">passthrough</label><div class=\"sk-toggleable__content\"><pre>passthrough</pre></div></div></div></div></div></div></div></div></div></div></div></div>"
      ],
      "text/plain": [
       "Pipeline(steps=[('impute', SimpleImputer(strategy='most_frequent')),\n",
       "                ('ScaleNumerical',\n",
       "                 ColumnTransformer(transformers=[('categorical_vars',\n",
       "                                                  'passthrough',\n",
       "                                                  array([ 5, 28, 36, 37, 42, 44, 53, 66, 72, 79], dtype=int64)),\n",
       "                                                 ('numeric_vars',\n",
       "                                                  StandardScaler(),\n",
       "                                                  array([ 0,  1,  2,  3,  4,  7,  8,  9, 10, 11, 12, 13, 14, 15, 16, 17, 18,\n",
       "       19, 20, 21, 22, 23, 24, 25, 26, 27, 30, 31, 32, 33, 34, 35, 38, 41,\n",
       "       43, 45, 46, 52, 54...\n",
       "                                                 ('numeric_vars',\n",
       "                                                  PCA(random_state=1337),\n",
       "                                                  array([ 0,  1,  2,  3,  4,  7,  8,  9, 10, 11, 12, 13, 14, 15, 16, 17, 18,\n",
       "       19, 20, 21, 22, 23, 24, 25, 26, 27, 30, 31, 32, 33, 34, 35, 38, 41,\n",
       "       43, 45, 46, 52, 54, 55, 56, 57, 58, 59, 60, 61, 62, 63, 64, 65, 67,\n",
       "       68, 69, 70, 71, 73, 74, 75, 76, 77, 78, 80, 81, 83, 84, 86, 87, 88,\n",
       "       89, 90, 92, 93, 94, 95], dtype=int64)),\n",
       "                                                 ('binary_vars', 'passthrough',\n",
       "                                                  array([ 6, 29, 39, 40, 47, 48, 49, 50, 51, 82, 85, 91], dtype=int64))]))])"
      ]
     },
     "execution_count": 73,
     "metadata": {},
     "output_type": "execute_result"
    }
   ],
   "source": [
    "pca_pipe"
   ]
  },
  {
   "cell_type": "code",
   "execution_count": 74,
   "metadata": {},
   "outputs": [
    {
     "data": {
      "text/plain": [
       "array([['GREAT LAKES AREA', 'AA', 'Y', ..., True, False, False],\n",
       "       ['SOUTHWEST AREA', 'AA', 'Y', ..., True, True, True],\n",
       "       ['CALIFORNIA NORTH AREA', 'BA', 'Y', ..., False, False, False],\n",
       "       ...,\n",
       "       ['LOS ANGELES AREA', 'CY', 'Y', ..., False, False, False],\n",
       "       ['CHICAGO AREA', 'BA', 'Y', ..., False, False, False],\n",
       "       ['CALIFORNIA NORTH AREA', 'B', 'Y', ..., False, False, False]],\n",
       "      dtype=object)"
      ]
     },
     "execution_count": 74,
     "metadata": {},
     "output_type": "execute_result"
    }
   ],
   "source": [
    "# pca_pipe.steps[2][1].fit_transform(\n",
    "pca_pipe.steps[1][1].fit_transform(\n",
    "    pca_pipe.steps[0][1].fit_transform(raw_x_train)\n",
    ")\n",
    "# )"
   ]
  },
  {
   "cell_type": "code",
   "execution_count": 75,
   "metadata": {},
   "outputs": [],
   "source": [
    "x_train = pca_pipe.fit_transform(raw_x_train)\n",
    "x_test = impute_normalize_pipe.transform(raw_x_test)"
   ]
  },
  {
   "cell_type": "code",
   "execution_count": 18,
   "metadata": {},
   "outputs": [],
   "source": [
    "# L2 regularized logistic regression\n",
    "# 5 default chosen regularization strength\n",
    "# 5 fold CV (80% training 20% validation)\n",
    "log_reg = LogisticRegressionCV(\n",
    "    Cs=\n",
    "    random_state=RANDOM_SEED,\n",
    "    class_weight='balanced'\n",
    ")"
   ]
  }
 ],
 "metadata": {
  "kernelspec": {
   "display_name": "Python 3.8.13 ('telecomChurn')",
   "language": "python",
   "name": "python3"
  },
  "language_info": {
   "codemirror_mode": {
    "name": "ipython",
    "version": 3
   },
   "file_extension": ".py",
   "mimetype": "text/x-python",
   "name": "python",
   "nbconvert_exporter": "python",
   "pygments_lexer": "ipython3",
   "version": "3.8.13"
  },
  "orig_nbformat": 4,
  "vscode": {
   "interpreter": {
    "hash": "74019023e52479c1d7af2c5264d58e3c0847e60dcc8a2d39bc57a9391d0d8eaa"
   }
  }
 },
 "nbformat": 4,
 "nbformat_minor": 2
}
