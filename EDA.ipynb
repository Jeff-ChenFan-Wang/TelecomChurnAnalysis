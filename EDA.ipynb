{
 "cells": [
  {
   "cell_type": "code",
   "execution_count": 1,
   "metadata": {},
   "outputs": [],
   "source": [
    "import pandas as pd\n",
    "import numpy as np\n",
    "import matplotlib.pyplot as plt\n",
    "import seaborn as sns"
   ]
  },
  {
   "cell_type": "markdown",
   "metadata": {},
   "source": [
    "# EDA"
   ]
  },
  {
   "cell_type": "markdown",
   "metadata": {},
   "source": [
    "Set a predetermined seed so all our results can be replicated"
   ]
  },
  {
   "cell_type": "code",
   "execution_count": 2,
   "metadata": {},
   "outputs": [],
   "source": [
    "RANDOM_SEED = 1337"
   ]
  },
  {
   "cell_type": "markdown",
   "metadata": {},
   "source": [
    "Original data downloaded from: https://www.kaggle.com/datasets/abhinav89/telecom-customer?resource=download. <br />\n",
    "Data can be cleaned by running clean_raw.py in the repository to get the data into the form used in this notebook. <br/>"
   ]
  },
  {
   "cell_type": "code",
   "execution_count": 3,
   "metadata": {},
   "outputs": [],
   "source": [
    "full_data = pd.read_csv('Dataset/clean_data.csv', index_col='Customer_ID')"
   ]
  },
  {
   "cell_type": "markdown",
   "metadata": {},
   "source": [
    "- Data contains 100,000 rows and 99 features\n",
    "- Customer_ID serves as the primary key for each customer \n",
    "- Target variable is 'churn' where\n",
    "    -  1 = Customer Churned\n",
    "    -  0 = Customer Stayed"
   ]
  },
  {
   "cell_type": "code",
   "execution_count": 4,
   "metadata": {},
   "outputs": [
    {
     "data": {
      "text/plain": [
       "(100000, 99)"
      ]
     },
     "execution_count": 4,
     "metadata": {},
     "output_type": "execute_result"
    }
   ],
   "source": [
    "full_data.shape"
   ]
  },
  {
   "cell_type": "code",
   "execution_count": 5,
   "metadata": {},
   "outputs": [
    {
     "data": {
      "text/html": [
       "<div>\n",
       "<style scoped>\n",
       "    .dataframe tbody tr th:only-of-type {\n",
       "        vertical-align: middle;\n",
       "    }\n",
       "\n",
       "    .dataframe tbody tr th {\n",
       "        vertical-align: top;\n",
       "    }\n",
       "\n",
       "    .dataframe thead th {\n",
       "        text-align: right;\n",
       "    }\n",
       "</style>\n",
       "<table border=\"1\" class=\"dataframe\">\n",
       "  <thead>\n",
       "    <tr style=\"text-align: right;\">\n",
       "      <th></th>\n",
       "      <th>actvsubs</th>\n",
       "      <th>adjmou</th>\n",
       "      <th>adjqty</th>\n",
       "      <th>adjrev</th>\n",
       "      <th>adults</th>\n",
       "      <th>area</th>\n",
       "      <th>asl_flag</th>\n",
       "      <th>attempt_mean</th>\n",
       "      <th>avg3mou</th>\n",
       "      <th>avg3qty</th>\n",
       "      <th>...</th>\n",
       "      <th>threeway_mean</th>\n",
       "      <th>totcalls</th>\n",
       "      <th>totmou</th>\n",
       "      <th>totmrc_mean</th>\n",
       "      <th>totrev</th>\n",
       "      <th>truck</th>\n",
       "      <th>unan_dat_mean</th>\n",
       "      <th>unan_vce_mean</th>\n",
       "      <th>uniqsubs</th>\n",
       "      <th>vceovr_mean</th>\n",
       "    </tr>\n",
       "    <tr>\n",
       "      <th>Customer_ID</th>\n",
       "      <th></th>\n",
       "      <th></th>\n",
       "      <th></th>\n",
       "      <th></th>\n",
       "      <th></th>\n",
       "      <th></th>\n",
       "      <th></th>\n",
       "      <th></th>\n",
       "      <th></th>\n",
       "      <th></th>\n",
       "      <th></th>\n",
       "      <th></th>\n",
       "      <th></th>\n",
       "      <th></th>\n",
       "      <th></th>\n",
       "      <th></th>\n",
       "      <th></th>\n",
       "      <th></th>\n",
       "      <th></th>\n",
       "      <th></th>\n",
       "      <th></th>\n",
       "    </tr>\n",
       "  </thead>\n",
       "  <tbody>\n",
       "    <tr>\n",
       "      <th>1000001</th>\n",
       "      <td>1</td>\n",
       "      <td>4085.00</td>\n",
       "      <td>1602</td>\n",
       "      <td>1453.44</td>\n",
       "      <td>1.0</td>\n",
       "      <td>NORTHWEST/ROCKY MOUNTAIN AREA</td>\n",
       "      <td>0</td>\n",
       "      <td>52.333333</td>\n",
       "      <td>272</td>\n",
       "      <td>116</td>\n",
       "      <td>...</td>\n",
       "      <td>0.000000</td>\n",
       "      <td>1652</td>\n",
       "      <td>4228.00000</td>\n",
       "      <td>22.500</td>\n",
       "      <td>1504.62</td>\n",
       "      <td>0.0</td>\n",
       "      <td>0.0</td>\n",
       "      <td>6.333333</td>\n",
       "      <td>2</td>\n",
       "      <td>0.0</td>\n",
       "    </tr>\n",
       "    <tr>\n",
       "      <th>1000002</th>\n",
       "      <td>1</td>\n",
       "      <td>26367.00</td>\n",
       "      <td>14624</td>\n",
       "      <td>2833.88</td>\n",
       "      <td>1.0</td>\n",
       "      <td>CHICAGO AREA</td>\n",
       "      <td>0</td>\n",
       "      <td>263.333333</td>\n",
       "      <td>305</td>\n",
       "      <td>158</td>\n",
       "      <td>...</td>\n",
       "      <td>0.333333</td>\n",
       "      <td>14654</td>\n",
       "      <td>26400.00000</td>\n",
       "      <td>37.425</td>\n",
       "      <td>2851.68</td>\n",
       "      <td>1.0</td>\n",
       "      <td>0.0</td>\n",
       "      <td>61.333333</td>\n",
       "      <td>1</td>\n",
       "      <td>9.1</td>\n",
       "    </tr>\n",
       "    <tr>\n",
       "      <th>1000003</th>\n",
       "      <td>1</td>\n",
       "      <td>24303.05</td>\n",
       "      <td>7888</td>\n",
       "      <td>1934.47</td>\n",
       "      <td>2.0</td>\n",
       "      <td>GREAT LAKES AREA</td>\n",
       "      <td>0</td>\n",
       "      <td>9.000000</td>\n",
       "      <td>12</td>\n",
       "      <td>7</td>\n",
       "      <td>...</td>\n",
       "      <td>0.000000</td>\n",
       "      <td>7903</td>\n",
       "      <td>24385.05333</td>\n",
       "      <td>16.990</td>\n",
       "      <td>2155.91</td>\n",
       "      <td>0.0</td>\n",
       "      <td>0.0</td>\n",
       "      <td>2.666667</td>\n",
       "      <td>1</td>\n",
       "      <td>0.0</td>\n",
       "    </tr>\n",
       "    <tr>\n",
       "      <th>1000004</th>\n",
       "      <td>1</td>\n",
       "      <td>3035.00</td>\n",
       "      <td>1479</td>\n",
       "      <td>1941.81</td>\n",
       "      <td>4.0</td>\n",
       "      <td>CHICAGO AREA</td>\n",
       "      <td>0</td>\n",
       "      <td>3.666667</td>\n",
       "      <td>8</td>\n",
       "      <td>3</td>\n",
       "      <td>...</td>\n",
       "      <td>0.000000</td>\n",
       "      <td>1502</td>\n",
       "      <td>3065.00000</td>\n",
       "      <td>38.000</td>\n",
       "      <td>2000.90</td>\n",
       "      <td>0.0</td>\n",
       "      <td>0.0</td>\n",
       "      <td>0.000000</td>\n",
       "      <td>1</td>\n",
       "      <td>0.0</td>\n",
       "    </tr>\n",
       "    <tr>\n",
       "      <th>1000005</th>\n",
       "      <td>1</td>\n",
       "      <td>13965.00</td>\n",
       "      <td>4452</td>\n",
       "      <td>2166.48</td>\n",
       "      <td>1.0</td>\n",
       "      <td>NEW ENGLAND AREA</td>\n",
       "      <td>0</td>\n",
       "      <td>222.333333</td>\n",
       "      <td>558</td>\n",
       "      <td>191</td>\n",
       "      <td>...</td>\n",
       "      <td>0.000000</td>\n",
       "      <td>4485</td>\n",
       "      <td>14028.00000</td>\n",
       "      <td>71.980</td>\n",
       "      <td>2181.12</td>\n",
       "      <td>0.0</td>\n",
       "      <td>0.0</td>\n",
       "      <td>77.000000</td>\n",
       "      <td>1</td>\n",
       "      <td>0.0</td>\n",
       "    </tr>\n",
       "  </tbody>\n",
       "</table>\n",
       "<p>5 rows × 99 columns</p>\n",
       "</div>"
      ],
      "text/plain": [
       "             actvsubs    adjmou  adjqty   adjrev  adults  \\\n",
       "Customer_ID                                                \n",
       "1000001             1   4085.00    1602  1453.44     1.0   \n",
       "1000002             1  26367.00   14624  2833.88     1.0   \n",
       "1000003             1  24303.05    7888  1934.47     2.0   \n",
       "1000004             1   3035.00    1479  1941.81     4.0   \n",
       "1000005             1  13965.00    4452  2166.48     1.0   \n",
       "\n",
       "                                      area  asl_flag  attempt_mean  avg3mou  \\\n",
       "Customer_ID                                                                   \n",
       "1000001      NORTHWEST/ROCKY MOUNTAIN AREA         0     52.333333      272   \n",
       "1000002                       CHICAGO AREA         0    263.333333      305   \n",
       "1000003                   GREAT LAKES AREA         0      9.000000       12   \n",
       "1000004                       CHICAGO AREA         0      3.666667        8   \n",
       "1000005                   NEW ENGLAND AREA         0    222.333333      558   \n",
       "\n",
       "             avg3qty  ...  threeway_mean  totcalls       totmou  totmrc_mean  \\\n",
       "Customer_ID           ...                                                      \n",
       "1000001          116  ...       0.000000      1652   4228.00000       22.500   \n",
       "1000002          158  ...       0.333333     14654  26400.00000       37.425   \n",
       "1000003            7  ...       0.000000      7903  24385.05333       16.990   \n",
       "1000004            3  ...       0.000000      1502   3065.00000       38.000   \n",
       "1000005          191  ...       0.000000      4485  14028.00000       71.980   \n",
       "\n",
       "              totrev  truck  unan_dat_mean  unan_vce_mean  uniqsubs  \\\n",
       "Customer_ID                                                           \n",
       "1000001      1504.62    0.0            0.0       6.333333         2   \n",
       "1000002      2851.68    1.0            0.0      61.333333         1   \n",
       "1000003      2155.91    0.0            0.0       2.666667         1   \n",
       "1000004      2000.90    0.0            0.0       0.000000         1   \n",
       "1000005      2181.12    0.0            0.0      77.000000         1   \n",
       "\n",
       "             vceovr_mean  \n",
       "Customer_ID               \n",
       "1000001              0.0  \n",
       "1000002              9.1  \n",
       "1000003              0.0  \n",
       "1000004              0.0  \n",
       "1000005              0.0  \n",
       "\n",
       "[5 rows x 99 columns]"
      ]
     },
     "execution_count": 5,
     "metadata": {},
     "output_type": "execute_result"
    }
   ],
   "source": [
    "full_data.head(5)"
   ]
  },
  {
   "cell_type": "markdown",
   "metadata": {},
   "source": [
    "Our target variable in the data is surprisingly well balanced to begin with. We might still input some weights when building the model later just to make sure but this hopefully means detecting positive cases (churned customers) much easier. "
   ]
  },
  {
   "cell_type": "code",
   "execution_count": 6,
   "metadata": {},
   "outputs": [
    {
     "data": {
      "text/plain": [
       "<AxesSubplot:xlabel='churn', ylabel='count'>"
      ]
     },
     "execution_count": 6,
     "metadata": {},
     "output_type": "execute_result"
    },
    {
     "data": {
      "image/png": "[encoded data removed]",
      "text/plain": [
       "<Figure size 432x288 with 1 Axes>"
      ]
     },
     "metadata": {
      "needs_background": "light"
     },
     "output_type": "display_data"
    }
   ],
   "source": [
    "sns.countplot(x=full_data.churn)"
   ]
  },
  {
   "cell_type": "markdown",
   "metadata": {},
   "source": [
    "Some of the columns within our data cannot be reliably imputed by our preprocessing, hence there are some columns still with missing data as seen below. We're hoping to use algorithms that can handle missing data since some of it may be MNAR with a lot of rows missing, but we'll take other steps to address the missingness if need be later. "
   ]
  },
  {
   "cell_type": "code",
   "execution_count": 7,
   "metadata": {},
   "outputs": [
    {
     "data": {
      "text/plain": [
       "Text(0.5, 1.0, '% Data Missing in Each Column')"
      ]
     },
     "execution_count": 7,
     "metadata": {},
     "output_type": "execute_result"
    },
    {
     "data": {
      "image/png": "[encoded data removed]",
      "text/plain": [
       "<Figure size 576x360 with 1 Axes>"
      ]
     },
     "metadata": {
      "needs_background": "light"
     },
     "output_type": "display_data"
    }
   ],
   "source": [
    "miss_data_cols = full_data.columns[full_data.isna().sum()>0]\n",
    "pct_miss_data = (\n",
    "    full_data[miss_data_cols].isna().sum()\n",
    "    .sort_values()\n",
    "    /full_data.shape[0]\n",
    ")\n",
    "plt.figure(figsize=(8,5))\n",
    "ax = sns.barplot(x=pct_miss_data,y=pct_miss_data.index)\n",
    "ax.set_title('% Data Missing in Each Column')"
   ]
  },
  {
   "cell_type": "markdown",
   "metadata": {},
   "source": [
    "# Univariate Analysis"
   ]
  },
  {
   "cell_type": "code",
   "execution_count": 16,
   "metadata": {},
   "outputs": [],
   "source": [
    "cat_cols = full_data.select_dtypes(include='object').columns\n",
    "num_cols = full_data.select_dtypes(include=np.number).columns\n",
    "bin_cols = num_cols[full_data[num_cols].nunique()==2]\n",
    "num_cols = pd.Index(set(num_cols)-set(bin_cols))\n"
   ]
  },
  {
   "cell_type": "markdown",
   "metadata": {},
   "source": [
    "## Categorical Features"
   ]
  },
  {
   "cell_type": "code",
   "execution_count": null,
   "metadata": {},
   "outputs": [],
   "source": [
    "def create_subplots(num:int,figsize=(8,8)):\n",
    "    r = int(np.ceil(np.sqrt(num)))\n",
    "    c = int(np.ceil(num/r))\n",
    "    fig, ax = plt.subplots(r,c,figsize=figsize)\n",
    "    for i in range(c):\n",
    "        for j in range(c):\n",
    "            if i*c+j<classes.shape[0]:\n",
    "                cluster = classes[i*c+j]\n",
    "                graph_cluster_wc(\n",
    "                    col_desc, 'tokenized',\n",
    "                    cluster_col, cluster,\n",
    "                    ax=ax[i][j]\n",
    "                )\n",
    "                ax[i][j].title.set_text(f'cluster {cluster}')"
   ]
  },
  {
   "cell_type": "code",
   "execution_count": 24,
   "metadata": {},
   "outputs": [
    {
     "data": {
      "text/plain": [
       "<AxesSubplot:xlabel='count', ylabel='dualband'>"
      ]
     },
     "execution_count": 24,
     "metadata": {},
     "output_type": "execute_result"
    },
    {
     "data": {
      "image/png": "[encoded data removed]",
      "text/plain": [
       "<Figure size 432x288 with 1 Axes>"
      ]
     },
     "metadata": {
      "needs_background": "light"
     },
     "output_type": "display_data"
    }
   ],
   "source": [
    "sns.countplot(y=full_data['dualband'])"
   ]
  },
  {
   "cell_type": "code",
   "execution_count": 19,
   "metadata": {},
   "outputs": [
    {
     "data": {
      "text/html": [
       "<div>\n",
       "<style scoped>\n",
       "    .dataframe tbody tr th:only-of-type {\n",
       "        vertical-align: middle;\n",
       "    }\n",
       "\n",
       "    .dataframe tbody tr th {\n",
       "        vertical-align: top;\n",
       "    }\n",
       "\n",
       "    .dataframe thead th {\n",
       "        text-align: right;\n",
       "    }\n",
       "</style>\n",
       "<table border=\"1\" class=\"dataframe\">\n",
       "  <thead>\n",
       "    <tr style=\"text-align: right;\">\n",
       "      <th></th>\n",
       "      <th>area</th>\n",
       "      <th>crclscod</th>\n",
       "      <th>dualband</th>\n",
       "      <th>dwllsize</th>\n",
       "      <th>ethnic</th>\n",
       "      <th>hhstatin</th>\n",
       "      <th>hnd_webcap</th>\n",
       "      <th>marital</th>\n",
       "      <th>prizm_social_one</th>\n",
       "    </tr>\n",
       "    <tr>\n",
       "      <th>Customer_ID</th>\n",
       "      <th></th>\n",
       "      <th></th>\n",
       "      <th></th>\n",
       "      <th></th>\n",
       "      <th></th>\n",
       "      <th></th>\n",
       "      <th></th>\n",
       "      <th></th>\n",
       "      <th></th>\n",
       "    </tr>\n",
       "  </thead>\n",
       "  <tbody>\n",
       "    <tr>\n",
       "      <th>1000001</th>\n",
       "      <td>NORTHWEST/ROCKY MOUNTAIN AREA</td>\n",
       "      <td>A</td>\n",
       "      <td>Y</td>\n",
       "      <td>A</td>\n",
       "      <td>N</td>\n",
       "      <td>C</td>\n",
       "      <td>WCMB</td>\n",
       "      <td>S</td>\n",
       "      <td>S</td>\n",
       "    </tr>\n",
       "    <tr>\n",
       "      <th>1000002</th>\n",
       "      <td>CHICAGO AREA</td>\n",
       "      <td>EA</td>\n",
       "      <td>N</td>\n",
       "      <td>A</td>\n",
       "      <td>Z</td>\n",
       "      <td>C</td>\n",
       "      <td>WC</td>\n",
       "      <td>S</td>\n",
       "      <td>U</td>\n",
       "    </tr>\n",
       "    <tr>\n",
       "      <th>1000003</th>\n",
       "      <td>GREAT LAKES AREA</td>\n",
       "      <td>C</td>\n",
       "      <td>N</td>\n",
       "      <td>A</td>\n",
       "      <td>N</td>\n",
       "      <td>C</td>\n",
       "      <td>NaN</td>\n",
       "      <td>M</td>\n",
       "      <td>S</td>\n",
       "    </tr>\n",
       "    <tr>\n",
       "      <th>1000004</th>\n",
       "      <td>CHICAGO AREA</td>\n",
       "      <td>B</td>\n",
       "      <td>N</td>\n",
       "      <td>D</td>\n",
       "      <td>U</td>\n",
       "      <td>C</td>\n",
       "      <td>NaN</td>\n",
       "      <td>M</td>\n",
       "      <td>T</td>\n",
       "    </tr>\n",
       "    <tr>\n",
       "      <th>1000005</th>\n",
       "      <td>NEW ENGLAND AREA</td>\n",
       "      <td>A</td>\n",
       "      <td>Y</td>\n",
       "      <td>O</td>\n",
       "      <td>I</td>\n",
       "      <td>C</td>\n",
       "      <td>WCMB</td>\n",
       "      <td>S</td>\n",
       "      <td>U</td>\n",
       "    </tr>\n",
       "    <tr>\n",
       "      <th>...</th>\n",
       "      <td>...</td>\n",
       "      <td>...</td>\n",
       "      <td>...</td>\n",
       "      <td>...</td>\n",
       "      <td>...</td>\n",
       "      <td>...</td>\n",
       "      <td>...</td>\n",
       "      <td>...</td>\n",
       "      <td>...</td>\n",
       "    </tr>\n",
       "    <tr>\n",
       "      <th>1099996</th>\n",
       "      <td>LOS ANGELES AREA</td>\n",
       "      <td>B</td>\n",
       "      <td>N</td>\n",
       "      <td>A</td>\n",
       "      <td>S</td>\n",
       "      <td>NaN</td>\n",
       "      <td>WC</td>\n",
       "      <td>M</td>\n",
       "      <td>U</td>\n",
       "    </tr>\n",
       "    <tr>\n",
       "      <th>1099997</th>\n",
       "      <td>LOS ANGELES AREA</td>\n",
       "      <td>CY</td>\n",
       "      <td>N</td>\n",
       "      <td>A</td>\n",
       "      <td>N</td>\n",
       "      <td>I</td>\n",
       "      <td>WC</td>\n",
       "      <td>M</td>\n",
       "      <td>S</td>\n",
       "    </tr>\n",
       "    <tr>\n",
       "      <th>1099998</th>\n",
       "      <td>SOUTHWEST AREA</td>\n",
       "      <td>DA</td>\n",
       "      <td>Y</td>\n",
       "      <td>NaN</td>\n",
       "      <td>U</td>\n",
       "      <td>NaN</td>\n",
       "      <td>WCMB</td>\n",
       "      <td>B</td>\n",
       "      <td>U</td>\n",
       "    </tr>\n",
       "    <tr>\n",
       "      <th>1099999</th>\n",
       "      <td>SOUTHWEST AREA</td>\n",
       "      <td>EA</td>\n",
       "      <td>Y</td>\n",
       "      <td>NaN</td>\n",
       "      <td>S</td>\n",
       "      <td>NaN</td>\n",
       "      <td>WCMB</td>\n",
       "      <td>U</td>\n",
       "      <td>U</td>\n",
       "    </tr>\n",
       "    <tr>\n",
       "      <th>1100000</th>\n",
       "      <td>LOS ANGELES AREA</td>\n",
       "      <td>B</td>\n",
       "      <td>Y</td>\n",
       "      <td>A</td>\n",
       "      <td>H</td>\n",
       "      <td>NaN</td>\n",
       "      <td>WCMB</td>\n",
       "      <td>A</td>\n",
       "      <td>S</td>\n",
       "    </tr>\n",
       "  </tbody>\n",
       "</table>\n",
       "<p>100000 rows × 9 columns</p>\n",
       "</div>"
      ],
      "text/plain": [
       "                                      area crclscod dualband dwllsize ethnic  \\\n",
       "Customer_ID                                                                    \n",
       "1000001      NORTHWEST/ROCKY MOUNTAIN AREA        A        Y        A      N   \n",
       "1000002                       CHICAGO AREA       EA        N        A      Z   \n",
       "1000003                   GREAT LAKES AREA        C        N        A      N   \n",
       "1000004                       CHICAGO AREA        B        N        D      U   \n",
       "1000005                   NEW ENGLAND AREA        A        Y        O      I   \n",
       "...                                    ...      ...      ...      ...    ...   \n",
       "1099996                   LOS ANGELES AREA        B        N        A      S   \n",
       "1099997                   LOS ANGELES AREA       CY        N        A      N   \n",
       "1099998                     SOUTHWEST AREA       DA        Y      NaN      U   \n",
       "1099999                     SOUTHWEST AREA       EA        Y      NaN      S   \n",
       "1100000                   LOS ANGELES AREA        B        Y        A      H   \n",
       "\n",
       "            hhstatin hnd_webcap marital prizm_social_one  \n",
       "Customer_ID                                               \n",
       "1000001            C       WCMB       S                S  \n",
       "1000002            C         WC       S                U  \n",
       "1000003            C        NaN       M                S  \n",
       "1000004            C        NaN       M                T  \n",
       "1000005            C       WCMB       S                U  \n",
       "...              ...        ...     ...              ...  \n",
       "1099996          NaN         WC       M                U  \n",
       "1099997            I         WC       M                S  \n",
       "1099998          NaN       WCMB       B                U  \n",
       "1099999          NaN       WCMB       U                U  \n",
       "1100000          NaN       WCMB       A                S  \n",
       "\n",
       "[100000 rows x 9 columns]"
      ]
     },
     "execution_count": 19,
     "metadata": {},
     "output_type": "execute_result"
    }
   ],
   "source": [
    "full_data[cat_cols]"
   ]
  }
 ],
 "metadata": {
  "kernelspec": {
   "display_name": "Python 3.8.13 ('telecomChurn')",
   "language": "python",
   "name": "python3"
  },
  "language_info": {
   "codemirror_mode": {
    "name": "ipython",
    "version": 3
   },
   "file_extension": ".py",
   "mimetype": "text/x-python",
   "name": "python",
   "nbconvert_exporter": "python",
   "pygments_lexer": "ipython3",
   "version": "3.8.13"
  },
  "orig_nbformat": 4,
  "vscode": {
   "interpreter": {
    "hash": "2fbdce887e3e5f960b74eaae67cd2ebc9c84860334727f842ebfba4f686e38cf"
   }
  }
 },
 "nbformat": 4,
 "nbformat_minor": 2
}
